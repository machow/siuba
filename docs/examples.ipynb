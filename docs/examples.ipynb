{
 "cells": [
  {
   "cell_type": "markdown",
   "metadata": {},
   "source": [
    "# Examples\n",
    "\n",
    "> 🚧 This section is a work in progress. I'm working to add small example notebooks, but in the meantime have listed some other useful sources!\n"
   ]
  },
  {
   "cell_type": "markdown",
   "metadata": {},
   "source": [
    "## Verb docs\n",
    "\n",
    "Each table verb has longform documentation listed on the sidebar. I highly suggest looking through them. \n",
    "\n",
    "Here are the first three:\n",
    "\n",
    "* [filter](api_table_core/01_filter.html)\n",
    "* [arrange](api_table_core/02_arrange.html)\n",
    "* [select](api_table_core/03_select.html)"
   ]
  },
  {
   "cell_type": "markdown",
   "metadata": {},
   "source": [
    "## Tidy Tuesday screencasts\n",
    "\n",
    "I livecode hour long analyses for a project called Tidy Tuesday, using siuba. You can find the notebooks and links to youtube videos listed on [machow/tidytuesday-py](github.com/machow/tidytuesday-py).\n",
    "\n",
    "I've focused on two kinds of livecoding:\n",
    "\n",
    "* [Live translations from R to python](https://github.com/machow/tidytuesday-py#tidy-tuesday-translations-from-r-to-python)\n",
    "* [Live python analyses](https://github.com/machow/tidytuesday-py#tidy-tuesday-translations-from-r-to-python)\n",
    "\n"
   ]
  }
 ],
 "metadata": {
  "kernelspec": {
   "display_name": "Python 3",
   "language": "python",
   "name": "python3"
  },
  "language_info": {
   "codemirror_mode": {
    "name": "ipython",
    "version": 3
   },
   "file_extension": ".py",
   "mimetype": "text/x-python",
   "name": "python",
   "nbconvert_exporter": "python",
   "pygments_lexer": "ipython3",
   "version": "3.6.8"
  }
 },
 "nbformat": 4,
 "nbformat_minor": 4
}

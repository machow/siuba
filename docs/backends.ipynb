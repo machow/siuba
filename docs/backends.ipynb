{
 "cells": [
  {
   "cell_type": "markdown",
   "metadata": {},
   "source": [
    "# Backends\n"
   ]
  },
  {
   "cell_type": "code",
   "execution_count": 11,
   "metadata": {},
   "outputs": [
    {
     "data": {
      "text/html": [
       "<style>\n",
       "\n",
       "iframe.method-support {\n",
       "  border: none;\n",
       "  width: 100%;\n",
       "  height: 1800px;\n",
       "  \n",
       "}\n",
       "</style>\n",
       "<iframe class=\"method-support\" src=\"http://mchow.com/siuba-doc-method-table/\"></iframe>\n"
      ],
      "text/plain": [
       "<IPython.core.display.HTML object>"
      ]
     },
     "metadata": {},
     "output_type": "display_data"
    }
   ],
   "source": [
    "%%html\n",
    "<style>\n",
    "\n",
    "iframe.method-support {\n",
    "  border: none;\n",
    "  width: 100%;\n",
    "  height: 1800px;\n",
    "  \n",
    "}\n",
    "</style>\n",
    "<iframe class=\"method-support\" src=\"http://mchow.com/siuba-doc-method-table/\"></iframe>"
   ]
  }
 ],
 "metadata": {
  "kernelspec": {
   "display_name": "Python 3",
   "language": "python",
   "name": "python3"
  },
  "language_info": {
   "codemirror_mode": {
    "name": "ipython",
    "version": 3
   },
   "file_extension": ".py",
   "mimetype": "text/x-python",
   "name": "python",
   "nbconvert_exporter": "python",
   "pygments_lexer": "ipython3",
   "version": "3.6.8"
  }
 },
 "nbformat": 4,
 "nbformat_minor": 4
}

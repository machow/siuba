{
 "cells": [
  {
   "cell_type": "markdown",
   "metadata": {},
   "source": [
    "# Programming guide\n",
    "\n",
    "> ⚠️ If you want to get started analyzing data, see the [analysis guide](/guide_analysis.html). This guide gives an overview of how to implement and extend most parts of siuba. It also discusses the rationale behind siuba's architecture."
   ]
  },
  {
   "cell_type": "code",
   "execution_count": 1,
   "metadata": {},
   "outputs": [],
   "source": [
    "import pandas as pd\n",
    "\n",
    "pd.set_option(\"display.max_rows\", 5)"
   ]
  },
  {
   "cell_type": "code",
   "execution_count": 2,
   "metadata": {},
   "outputs": [
    {
     "data": {
      "text/html": [
       "\n",
       "<style>\n",
       ".table-container table {\n",
       "  margin-left: 0;\n",
       "}\n",
       "</style>\n"
      ],
      "text/plain": [
       "<IPython.core.display.HTML object>"
      ]
     },
     "metadata": {},
     "output_type": "display_data"
    }
   ],
   "source": [
    "%%html\n",
    "\n",
    "<style>\n",
    ".table-container table {\n",
    "  margin-left: 0;\n",
    "}\n",
    "</style>"
   ]
  },
  {
   "cell_type": "markdown",
   "metadata": {},
   "source": [
    "\n",
    "<div class=\"table-container\">\n",
    "\n",
    "| feature                                    | siuba   | dplython   | pandas   |\n",
    "|:-------------------------------------------|:--------|:-----------|:---------|\n",
    "| Column operations are pandas Series methods | ✅      | ✅         | ✅       |\n",
    "| Table verbs supports user defined functions | ✅      | ✅         | ✅       |    \n",
    "| pipe syntax (`>>`)                          | ✅      | ✅         | ❌       |\n",
    "| concise, **lazy expressions** (`_.a + _.b`) | ✅      | ✅         | ❌       |    \n",
    "| No more reset_index                        | ✅      | ✅         | ❌       |\n",
    "| **unified API** over (un)grouped data      | ✅      | ✅         | ❌       |    \n",
    "| generate fast grouped operations           | ✅      | ❌         | ✅       |\n",
    "| **generate SQL queries**                   | ✅      | ❌         | ❌       |\n",
    "| Abstract syntax trees for **transforming operations**   | ✅      | ❌         | ❌       |    \n",
    "| handles nested data                        | ✅      | ❌         | ⚠️        |\n",
    "\n",
    "</div>"
   ]
  },
  {
   "cell_type": "markdown",
   "metadata": {},
   "source": [
    "\n",
    "Siuba aims at meeting 3 goals:\n",
    "\n",
    "* **pandas overlap:** allow users to re-use their knowledge of pandas methods.\n",
    "* **dplython overlap:** provide more flexible, consistent syntax for operating on columns of data.\n",
    "* **siuba specific:** support a broader set of data sources, like SQL.\n",
    "\n",
    "\n",
    "\n"
   ]
  },
  {
   "cell_type": "markdown",
   "metadata": {},
   "source": [
    "## Column operations\n",
    "\n",
    "For example, on ungrouped data siuba's mutate function..\n",
    "\n",
    "* takes a pandas DataFrame.\n",
    "* uses Series operations just like the `DataFrame.assign()` method would."
   ]
  },
  {
   "cell_type": "code",
   "execution_count": 3,
   "metadata": {},
   "outputs": [
    {
     "data": {
      "text/html": [
       "<div>\n",
       "<style scoped>\n",
       "    .dataframe tbody tr th:only-of-type {\n",
       "        vertical-align: middle;\n",
       "    }\n",
       "\n",
       "    .dataframe tbody tr th {\n",
       "        vertical-align: top;\n",
       "    }\n",
       "\n",
       "    .dataframe thead th {\n",
       "        text-align: right;\n",
       "    }\n",
       "</style>\n",
       "<table border=\"1\" class=\"dataframe\">\n",
       "  <thead>\n",
       "    <tr style=\"text-align: right;\">\n",
       "      <th></th>\n",
       "      <th>hp</th>\n",
       "      <th>mpg</th>\n",
       "      <th>cyl</th>\n",
       "      <th>demean</th>\n",
       "    </tr>\n",
       "  </thead>\n",
       "  <tbody>\n",
       "    <tr>\n",
       "      <th>0</th>\n",
       "      <td>110</td>\n",
       "      <td>21.0</td>\n",
       "      <td>6</td>\n",
       "      <td>0.909375</td>\n",
       "    </tr>\n",
       "    <tr>\n",
       "      <th>1</th>\n",
       "      <td>110</td>\n",
       "      <td>21.0</td>\n",
       "      <td>6</td>\n",
       "      <td>0.909375</td>\n",
       "    </tr>\n",
       "    <tr>\n",
       "      <th>...</th>\n",
       "      <td>...</td>\n",
       "      <td>...</td>\n",
       "      <td>...</td>\n",
       "      <td>...</td>\n",
       "    </tr>\n",
       "    <tr>\n",
       "      <th>30</th>\n",
       "      <td>335</td>\n",
       "      <td>15.0</td>\n",
       "      <td>8</td>\n",
       "      <td>-5.090625</td>\n",
       "    </tr>\n",
       "    <tr>\n",
       "      <th>31</th>\n",
       "      <td>109</td>\n",
       "      <td>21.4</td>\n",
       "      <td>4</td>\n",
       "      <td>1.309375</td>\n",
       "    </tr>\n",
       "  </tbody>\n",
       "</table>\n",
       "<p>32 rows × 4 columns</p>\n",
       "</div>"
      ],
      "text/plain": [
       "     hp   mpg  cyl    demean\n",
       "0   110  21.0    6  0.909375\n",
       "1   110  21.0    6  0.909375\n",
       "..  ...   ...  ...       ...\n",
       "30  335  15.0    8 -5.090625\n",
       "31  109  21.4    4  1.309375\n",
       "\n",
       "[32 rows x 4 columns]"
      ]
     },
     "execution_count": 3,
     "metadata": {},
     "output_type": "execute_result"
    }
   ],
   "source": [
    "from siuba.data import mtcars\n",
    "from siuba import mutate\n",
    "\n",
    "cars = mtcars[[\"hp\", \"mpg\", \"cyl\"]]\n",
    "\n",
    "# pandas assign method\n",
    "cars.assign( demean = lambda d: d.mpg - d.mpg.mean())\n",
    "\n",
    "# siuba mutate function\n",
    "mutate(cars, demean = lambda d: d.mpg - d.mpg.mean())"
   ]
  },
  {
   "cell_type": "markdown",
   "metadata": {},
   "source": [
    "This means that you can use and debug Series methods just like you would with pandas.\n",
    "\n",
    "For **grouped data**, or a **SQL database**, siuba can't use Series methods because they don't exist.\n",
    "For example, on grouped data, the same operation above in pandas would be..\n"
   ]
  },
  {
   "cell_type": "code",
   "execution_count": 4,
   "metadata": {},
   "outputs": [
    {
     "data": {
      "text/html": [
       "<div>\n",
       "<style scoped>\n",
       "    .dataframe tbody tr th:only-of-type {\n",
       "        vertical-align: middle;\n",
       "    }\n",
       "\n",
       "    .dataframe tbody tr th {\n",
       "        vertical-align: top;\n",
       "    }\n",
       "\n",
       "    .dataframe thead th {\n",
       "        text-align: right;\n",
       "    }\n",
       "</style>\n",
       "<table border=\"1\" class=\"dataframe\">\n",
       "  <thead>\n",
       "    <tr style=\"text-align: right;\">\n",
       "      <th></th>\n",
       "      <th>hp</th>\n",
       "      <th>mpg</th>\n",
       "      <th>cyl</th>\n",
       "      <th>demean</th>\n",
       "    </tr>\n",
       "  </thead>\n",
       "  <tbody>\n",
       "    <tr>\n",
       "      <th>0</th>\n",
       "      <td>110</td>\n",
       "      <td>21.0</td>\n",
       "      <td>6</td>\n",
       "      <td>1.257143</td>\n",
       "    </tr>\n",
       "    <tr>\n",
       "      <th>1</th>\n",
       "      <td>110</td>\n",
       "      <td>21.0</td>\n",
       "      <td>6</td>\n",
       "      <td>1.257143</td>\n",
       "    </tr>\n",
       "    <tr>\n",
       "      <th>...</th>\n",
       "      <td>...</td>\n",
       "      <td>...</td>\n",
       "      <td>...</td>\n",
       "      <td>...</td>\n",
       "    </tr>\n",
       "    <tr>\n",
       "      <th>30</th>\n",
       "      <td>335</td>\n",
       "      <td>15.0</td>\n",
       "      <td>8</td>\n",
       "      <td>-0.100000</td>\n",
       "    </tr>\n",
       "    <tr>\n",
       "      <th>31</th>\n",
       "      <td>109</td>\n",
       "      <td>21.4</td>\n",
       "      <td>4</td>\n",
       "      <td>-5.263636</td>\n",
       "    </tr>\n",
       "  </tbody>\n",
       "</table>\n",
       "<p>32 rows × 4 columns</p>\n",
       "</div>"
      ],
      "text/plain": [
       "     hp   mpg  cyl    demean\n",
       "0   110  21.0    6  1.257143\n",
       "1   110  21.0    6  1.257143\n",
       "..  ...   ...  ...       ...\n",
       "30  335  15.0    8 -0.100000\n",
       "31  109  21.4    4 -5.263636\n",
       "\n",
       "[32 rows x 4 columns]"
      ]
     },
     "execution_count": 4,
     "metadata": {},
     "output_type": "execute_result"
    }
   ],
   "source": [
    "# create grouped data\n",
    "g_cyl = cars.groupby('cyl')\n",
    "\n",
    "# error: g_cyl doesn't have an .assign method! :/\n",
    "# g_cyl.assign\n",
    "\n",
    "cars.assign(demean = g_cyl.mpg.transform(lambda x: x - x.mean()))"
   ]
  },
  {
   "cell_type": "markdown",
   "metadata": {},
   "source": [
    "In this grouped data case, siuba runs the necessary pandas methods for executing the operation. However, different pandas method have different limitation. For example, the `.transform()` method can only operate on one column of data. In order to allow the flexibility of pandas `.assign` operations, siuba needs to use a simple but robust strategy for representing grouped operations.\n",
    "\n",
    "The good news is that you can test the grouped approach piece by piece too!\n"
   ]
  },
  {
   "cell_type": "code",
   "execution_count": 5,
   "metadata": {},
   "outputs": [],
   "source": [
    "# TODO"
   ]
  },
  {
   "cell_type": "markdown",
   "metadata": {},
   "source": [
    "## Table verbs"
   ]
  },
  {
   "cell_type": "markdown",
   "metadata": {},
   "source": [
    "You may be wondering how a siuba function, like mutate, could work on a SQL database.\n",
    "This is because these functions are defined using a technique called single dispatch."
   ]
  },
  {
   "cell_type": "code",
   "execution_count": 6,
   "metadata": {},
   "outputs": [
    {
     "data": {
      "text/html": [
       "<div>\n",
       "<style scoped>\n",
       "    .dataframe tbody tr th:only-of-type {\n",
       "        vertical-align: middle;\n",
       "    }\n",
       "\n",
       "    .dataframe tbody tr th {\n",
       "        vertical-align: top;\n",
       "    }\n",
       "\n",
       "    .dataframe thead th {\n",
       "        text-align: right;\n",
       "    }\n",
       "</style>\n",
       "<table border=\"1\" class=\"dataframe\">\n",
       "  <thead>\n",
       "    <tr style=\"text-align: right;\">\n",
       "      <th></th>\n",
       "      <th>hp</th>\n",
       "      <th>mpg</th>\n",
       "      <th>cyl</th>\n",
       "    </tr>\n",
       "  </thead>\n",
       "  <tbody>\n",
       "    <tr>\n",
       "      <th>0</th>\n",
       "      <td>110</td>\n",
       "      <td>21.0</td>\n",
       "      <td>6</td>\n",
       "    </tr>\n",
       "    <tr>\n",
       "      <th>1</th>\n",
       "      <td>110</td>\n",
       "      <td>21.0</td>\n",
       "      <td>6</td>\n",
       "    </tr>\n",
       "  </tbody>\n",
       "</table>\n",
       "</div>"
      ],
      "text/plain": [
       "    hp   mpg  cyl\n",
       "0  110  21.0    6\n",
       "1  110  21.0    6"
      ]
     },
     "execution_count": 6,
     "metadata": {},
     "output_type": "execute_result"
    }
   ],
   "source": [
    "from siuba.dply.verbs import singledispatch2\n",
    "\n",
    "# DataFrame version of function ---\n",
    "\n",
    "@singledispatch2(pd.DataFrame)\n",
    "def head(__data, n = 5):\n",
    "    return __data.head(n)\n",
    "\n",
    "head(cars, 2)"
   ]
  },
  {
   "cell_type": "code",
   "execution_count": 7,
   "metadata": {},
   "outputs": [
    {
     "name": "stdout",
     "output_type": "stream",
     "text": [
      "<siuba.dply.verbs.Pipeable object at 0x11801c240>\n"
     ]
    }
   ],
   "source": [
    "# SQL version of function ---\n",
    "from sqlalchemy import Table, Column, MetaData\n",
    "\n",
    "@head.register(Table)\n",
    "def _head_sql(__data, n = 5):\n",
    "    return __data.select().limit(n)\n",
    "\n",
    "table = Table(\"some_table\", MetaData(), Column('a'), Column('b')), 2\n",
    "\n",
    "print(\n",
    "    head(table)\n",
    ")"
   ]
  },
  {
   "cell_type": "markdown",
   "metadata": {},
   "source": [
    "why use singledispatch rather than a class method like `mtcars.head()`?\n",
    "\n",
    "There are two big benefits:\n",
    "\n",
    "1. **Anyone can cleanly define and package a function**. Using it is just a matter of importing it. With a method, you need to somehow put it onto the class representing your data. You end up with 300+ methods on a class.\n",
    "2. Your function might do something that is **not the class's core responsibility**. In this case, it should not be part of the class definition."
   ]
  },
  {
   "cell_type": "markdown",
   "metadata": {},
   "source": [
    "One challenge with adding functions through singledispatch is that combining function calls results in a big [(dagwood) sandwich](http://wiki.c2.com/?ThickBreadSmell) of parentheses.\n",
    "\n",
    "```python\n",
    "from siuba import mutate, filter, head\n",
    "\n",
    "# run filter, then mutate, then head\n",
    "head(mutate(filter(mtcars, _.cyl == 4), demeaned = _.hp - _.hp.mean()))\n",
    "```"
   ]
  },
  {
   "cell_type": "markdown",
   "metadata": {},
   "source": [
    "Note that the order of execution is from inside to outside. These issues are resolved in siuba by using a pipe."
   ]
  },
  {
   "cell_type": "markdown",
   "metadata": {},
   "source": [
    "## Pipe syntax\n",
    "\n",
    "In the previous section I discussed how siuba uses singledispatch. This allows people to define new functions that are easy to package and import, as well as handle both a pandas DataFrame and SqlAlchemy table.\n",
    "\n",
    "One challenge is finding a way to combine functions so that they execute from \"top to bottom\". In pandas this is done using method chaining. For example, the code below starts with `cars`, then runs `.assign()`, then runs `.head()`."
   ]
  },
  {
   "cell_type": "code",
   "execution_count": 8,
   "metadata": {},
   "outputs": [
    {
     "data": {
      "text/html": [
       "<div>\n",
       "<style scoped>\n",
       "    .dataframe tbody tr th:only-of-type {\n",
       "        vertical-align: middle;\n",
       "    }\n",
       "\n",
       "    .dataframe tbody tr th {\n",
       "        vertical-align: top;\n",
       "    }\n",
       "\n",
       "    .dataframe thead th {\n",
       "        text-align: right;\n",
       "    }\n",
       "</style>\n",
       "<table border=\"1\" class=\"dataframe\">\n",
       "  <thead>\n",
       "    <tr style=\"text-align: right;\">\n",
       "      <th></th>\n",
       "      <th>hp</th>\n",
       "      <th>mpg</th>\n",
       "      <th>cyl</th>\n",
       "      <th>hp_per_cyl</th>\n",
       "    </tr>\n",
       "  </thead>\n",
       "  <tbody>\n",
       "    <tr>\n",
       "      <th>0</th>\n",
       "      <td>110</td>\n",
       "      <td>21.0</td>\n",
       "      <td>6</td>\n",
       "      <td>18.333333</td>\n",
       "    </tr>\n",
       "    <tr>\n",
       "      <th>1</th>\n",
       "      <td>110</td>\n",
       "      <td>21.0</td>\n",
       "      <td>6</td>\n",
       "      <td>18.333333</td>\n",
       "    </tr>\n",
       "  </tbody>\n",
       "</table>\n",
       "</div>"
      ],
      "text/plain": [
       "    hp   mpg  cyl  hp_per_cyl\n",
       "0  110  21.0    6   18.333333\n",
       "1  110  21.0    6   18.333333"
      ]
     },
     "execution_count": 8,
     "metadata": {},
     "output_type": "execute_result"
    }
   ],
   "source": [
    "(cars\n",
    "  .assign(hp_per_cyl = lambda d: d.hp / d.cyl)\n",
    "  .head(2)\n",
    ")"
   ]
  },
  {
   "cell_type": "markdown",
   "metadata": {},
   "source": [
    "Here is a similar version in siuba of the above code without and with piping."
   ]
  },
  {
   "cell_type": "code",
   "execution_count": 9,
   "metadata": {},
   "outputs": [
    {
     "data": {
      "text/html": [
       "<div>\n",
       "<style scoped>\n",
       "    .dataframe tbody tr th:only-of-type {\n",
       "        vertical-align: middle;\n",
       "    }\n",
       "\n",
       "    .dataframe tbody tr th {\n",
       "        vertical-align: top;\n",
       "    }\n",
       "\n",
       "    .dataframe thead th {\n",
       "        text-align: right;\n",
       "    }\n",
       "</style>\n",
       "<table border=\"1\" class=\"dataframe\">\n",
       "  <thead>\n",
       "    <tr style=\"text-align: right;\">\n",
       "      <th></th>\n",
       "      <th>hp</th>\n",
       "      <th>mpg</th>\n",
       "      <th>cyl</th>\n",
       "      <th>hp_per_cyl</th>\n",
       "    </tr>\n",
       "  </thead>\n",
       "  <tbody>\n",
       "    <tr>\n",
       "      <th>0</th>\n",
       "      <td>110</td>\n",
       "      <td>21.0</td>\n",
       "      <td>6</td>\n",
       "      <td>18.333333</td>\n",
       "    </tr>\n",
       "    <tr>\n",
       "      <th>1</th>\n",
       "      <td>110</td>\n",
       "      <td>21.0</td>\n",
       "      <td>6</td>\n",
       "      <td>18.333333</td>\n",
       "    </tr>\n",
       "  </tbody>\n",
       "</table>\n",
       "</div>"
      ],
      "text/plain": [
       "    hp   mpg  cyl  hp_per_cyl\n",
       "0  110  21.0    6   18.333333\n",
       "1  110  21.0    6   18.333333"
      ]
     },
     "execution_count": 9,
     "metadata": {},
     "output_type": "execute_result"
    }
   ],
   "source": [
    "# without pipe ----\n",
    "head(\n",
    "    mutate(\n",
    "        cars,\n",
    "        hp_per_cyl = lambda d: d.hp / d.cyl),\n",
    "    2\n",
    ")\n",
    "\n",
    "# with pipe ----\n",
    "(cars\n",
    "  >> mutate(hp_per_cyl = lambda d: d.hp / d.cyl)\n",
    "  >> head(2)\n",
    ")"
   ]
  },
  {
   "cell_type": "markdown",
   "metadata": {},
   "source": [
    "Notice how in this case we can import just the two functions we're using: head and mutate. Functions defined with `singledispatch2`--as described in the previous section--can be used in the same way. Indeed, this function is what created `head` and `mutate`."
   ]
  },
  {
   "cell_type": "markdown",
   "metadata": {},
   "source": [
    "Under the hood, function calls like below are turned into a Pipeable object."
   ]
  },
  {
   "cell_type": "code",
   "execution_count": 10,
   "metadata": {},
   "outputs": [
    {
     "data": {
      "text/plain": [
       "<siuba.dply.verbs.Pipeable at 0x10eec1d30>"
      ]
     },
     "execution_count": 10,
     "metadata": {},
     "output_type": "execute_result"
    }
   ],
   "source": [
    "mutate(hp_per_cyl = lambda d: d.hp / d.cyl)"
   ]
  },
  {
   "cell_type": "markdown",
   "metadata": {},
   "source": [
    "This happens when the function's first positional argument is not a known data source, like a DataFrame or SQL database. This is the case above.\n",
    "\n",
    "Alternatively, you can explicitly create a pipe by passing an instance of siuba's Symbolic class. This is shown in the code below, and explained in detail in the following section."
   ]
  },
  {
   "cell_type": "code",
   "execution_count": 11,
   "metadata": {},
   "outputs": [
    {
     "data": {
      "text/plain": [
       "<siuba.dply.verbs.Pipeable at 0x11801ceb8>"
      ]
     },
     "execution_count": 11,
     "metadata": {},
     "output_type": "execute_result"
    }
   ],
   "source": [
    "from siuba import _\n",
    "\n",
    "mutate(_, hp_per_cyl = lambda d: d.hp / d.cyl)"
   ]
  },
  {
   "cell_type": "markdown",
   "metadata": {
    "toc-hr-collapsed": true
   },
   "source": [
    "## Lazy expressions (`_.a + _.b`)\n",
    "\n",
    "TODO: mention limitations (eg external function calls)\n",
    "\n",
    "Up to this point, we've used lambda functions like the one below to express operations on a DataFrame's columns."
   ]
  },
  {
   "cell_type": "code",
   "execution_count": 12,
   "metadata": {},
   "outputs": [
    {
     "data": {
      "text/html": [
       "<div>\n",
       "<style scoped>\n",
       "    .dataframe tbody tr th:only-of-type {\n",
       "        vertical-align: middle;\n",
       "    }\n",
       "\n",
       "    .dataframe tbody tr th {\n",
       "        vertical-align: top;\n",
       "    }\n",
       "\n",
       "    .dataframe thead th {\n",
       "        text-align: right;\n",
       "    }\n",
       "</style>\n",
       "<table border=\"1\" class=\"dataframe\">\n",
       "  <thead>\n",
       "    <tr style=\"text-align: right;\">\n",
       "      <th></th>\n",
       "      <th>hp_mean</th>\n",
       "    </tr>\n",
       "  </thead>\n",
       "  <tbody>\n",
       "    <tr>\n",
       "      <th>0</th>\n",
       "      <td>146.6875</td>\n",
       "    </tr>\n",
       "  </tbody>\n",
       "</table>\n",
       "</div>"
      ],
      "text/plain": [
       "    hp_mean\n",
       "0  146.6875"
      ]
     },
     "execution_count": 12,
     "metadata": {},
     "output_type": "execute_result"
    }
   ],
   "source": [
    "from siuba import summarize\n",
    "\n",
    "summarize(cars, hp_mean = lambda d: d.hp.mean())"
   ]
  },
  {
   "cell_type": "markdown",
   "metadata": {},
   "source": [
    "However, peppering our analysis with lambda functions creates two challenges:\n",
    "\n",
    "1. writing `lambda d:` can take up as many characters as its operation `d.hp.mean()`.\n",
    "2. lambdas can execute some operations, but cannot tell us **what** operations they will execute.\n",
    "\n",
    "siuba handles these challenges by using a Symbolic operator."
   ]
  },
  {
   "cell_type": "code",
   "execution_count": 13,
   "metadata": {},
   "outputs": [
    {
     "data": {
      "text/html": [
       "<div>\n",
       "<style scoped>\n",
       "    .dataframe tbody tr th:only-of-type {\n",
       "        vertical-align: middle;\n",
       "    }\n",
       "\n",
       "    .dataframe tbody tr th {\n",
       "        vertical-align: top;\n",
       "    }\n",
       "\n",
       "    .dataframe thead th {\n",
       "        text-align: right;\n",
       "    }\n",
       "</style>\n",
       "<table border=\"1\" class=\"dataframe\">\n",
       "  <thead>\n",
       "    <tr style=\"text-align: right;\">\n",
       "      <th></th>\n",
       "      <th>avg_hp</th>\n",
       "    </tr>\n",
       "  </thead>\n",
       "  <tbody>\n",
       "    <tr>\n",
       "      <th>0</th>\n",
       "      <td>146.6875</td>\n",
       "    </tr>\n",
       "  </tbody>\n",
       "</table>\n",
       "</div>"
      ],
      "text/plain": [
       "     avg_hp\n",
       "0  146.6875"
      ]
     },
     "execution_count": 13,
     "metadata": {},
     "output_type": "execute_result"
    }
   ],
   "source": [
    "from siuba import _\n",
    "\n",
    "summarize(cars, avg_hp = _.hp.mean())"
   ]
  },
  {
   "cell_type": "markdown",
   "metadata": {},
   "source": [
    "### Declaring **what** to perform"
   ]
  },
  {
   "cell_type": "code",
   "execution_count": 14,
   "metadata": {},
   "outputs": [
    {
     "data": {
      "text/plain": [
       "█─'__call__'\n",
       "└─█─.\n",
       "  ├─█─.\n",
       "  │ ├─_\n",
       "  │ └─'hp'\n",
       "  └─'mean'"
      ]
     },
     "execution_count": 14,
     "metadata": {},
     "output_type": "execute_result"
    }
   ],
   "source": [
    "_.hp.mean()"
   ]
  },
  {
   "cell_type": "markdown",
   "metadata": {},
   "source": [
    "### Translating from what to **how**"
   ]
  },
  {
   "cell_type": "markdown",
   "metadata": {},
   "source": [
    "Note that this is not just shorter to write, it also enables siuba to convert an operation to the right SQL code."
   ]
  },
  {
   "cell_type": "code",
   "execution_count": 16,
   "metadata": {},
   "outputs": [
    {
     "name": "stdout",
     "output_type": "stream",
     "text": [
      "SELECT avg(cars.hp) AS avg_hp \n",
      "FROM cars\n"
     ]
    }
   ],
   "source": [
    "from siuba.data import cars_sql\n",
    "from siuba import group_by, summarize, mutate, show_query\n",
    "\n",
    "q = summarize(cars_sql, avg_hp = _.hp.mean()) >> show_query()"
   ]
  },
  {
   "cell_type": "code",
   "execution_count": 17,
   "metadata": {},
   "outputs": [
    {
     "name": "stdout",
     "output_type": "stream",
     "text": [
      "SELECT count(*) AS ttl \n",
      "FROM cars\n"
     ]
    }
   ],
   "source": [
    "q = summarize(cars_sql, ttl = n(_.hp)) >> show_query()"
   ]
  },
  {
   "cell_type": "markdown",
   "metadata": {},
   "source": [
    "Depending on whether we are using like summarize, filter, or mutate, the exact query generated can take different forms.\n",
    "\n",
    "For example, the code below calculates `demeaned` using an aggregate (`_.hp.mean()`), so requires a partition clause."
   ]
  },
  {
   "cell_type": "code",
   "execution_count": 18,
   "metadata": {},
   "outputs": [
    {
     "name": "stdout",
     "output_type": "stream",
     "text": [
      "SELECT cars.cyl, cars.mpg, cars.hp, cars.hp - avg(cars.hp) OVER (PARTITION BY cars.cyl) AS demeaned, cars.mpg / cars.hp AS mpg_per_hp \n",
      "FROM cars\n"
     ]
    }
   ],
   "source": [
    "q = (cars_sql \n",
    "  >> group_by(\"cyl\")\n",
    "  >> mutate(\n",
    "       demeaned = _.hp - _.hp.mean(),\n",
    "       mpg_per_hp = _.mpg / _.hp,\n",
    "  )\n",
    "  >> show_query()\n",
    ")"
   ]
  },
  {
   "cell_type": "markdown",
   "metadata": {},
   "source": [
    "siuba's SQL generation is discussed in more detail in (TODO: LINK TO) generate sql queries."
   ]
  },
  {
   "cell_type": "markdown",
   "metadata": {},
   "source": [
    "### With user defined functions"
   ]
  },
  {
   "cell_type": "code",
   "execution_count": 15,
   "metadata": {},
   "outputs": [
    {
     "data": {
      "text/plain": [
       "█─'__call__'\n",
       "├─█─'__custom_func__'\n",
       "│ └─<function n at 0x117f87e18>\n",
       "└─█─.\n",
       "  ├─_\n",
       "  └─'hp'"
      ]
     },
     "execution_count": 15,
     "metadata": {},
     "output_type": "execute_result"
    }
   ],
   "source": [
    "from siuba.dply.vector import n\n",
    "\n",
    "n(_.hp)"
   ]
  },
  {
   "cell_type": "markdown",
   "metadata": {},
   "source": [
    "## Handling indexes\n"
   ]
  },
  {
   "cell_type": "markdown",
   "metadata": {
    "toc-hr-collapsed": true
   },
   "source": [
    "## Unified API over (un)grouped data\n",
    "\n",
    "In general, grouped calculations in pandas use a different syntax from ungrouped calculations.\n",
    "\n",
    "For example, the code below shows how we could perform an efficient assign (siuba's mutate) on both kinds of data."
   ]
  },
  {
   "cell_type": "code",
   "execution_count": 1,
   "metadata": {},
   "outputs": [
    {
     "ename": "NameError",
     "evalue": "name 'cars' is not defined",
     "output_type": "error",
     "traceback": [
      "\u001b[0;31m---------------------------------------------------------------------------\u001b[0m",
      "\u001b[0;31mNameError\u001b[0m                                 Traceback (most recent call last)",
      "\u001b[0;32m<ipython-input-1-31265097f283>\u001b[0m in \u001b[0;36m<module>\u001b[0;34m\u001b[0m\n\u001b[0;32m----> 1\u001b[0;31m \u001b[0mg_cyl\u001b[0m \u001b[0;34m=\u001b[0m \u001b[0mcars\u001b[0m\u001b[0;34m.\u001b[0m\u001b[0mgroupby\u001b[0m\u001b[0;34m(\u001b[0m\u001b[0;34m\"cyl\"\u001b[0m\u001b[0;34m)\u001b[0m\u001b[0;34m\u001b[0m\u001b[0;34m\u001b[0m\u001b[0m\n\u001b[0m\u001b[1;32m      2\u001b[0m \u001b[0;34m\u001b[0m\u001b[0m\n\u001b[1;32m      3\u001b[0m \u001b[0;31m# ungrouped assign ----\u001b[0m\u001b[0;34m\u001b[0m\u001b[0;34m\u001b[0m\u001b[0;34m\u001b[0m\u001b[0m\n\u001b[1;32m      4\u001b[0m \u001b[0mcars\u001b[0m\u001b[0;34m.\u001b[0m\u001b[0massign\u001b[0m\u001b[0;34m(\u001b[0m\u001b[0mdemeaned\u001b[0m \u001b[0;34m=\u001b[0m \u001b[0;32mlambda\u001b[0m \u001b[0md\u001b[0m\u001b[0;34m:\u001b[0m \u001b[0md\u001b[0m\u001b[0;34m.\u001b[0m\u001b[0mhp\u001b[0m \u001b[0;34m-\u001b[0m \u001b[0md\u001b[0m\u001b[0;34m.\u001b[0m\u001b[0mhp\u001b[0m\u001b[0;34m.\u001b[0m\u001b[0mmean\u001b[0m\u001b[0;34m(\u001b[0m\u001b[0;34m)\u001b[0m\u001b[0;34m)\u001b[0m\u001b[0;34m\u001b[0m\u001b[0;34m\u001b[0m\u001b[0m\n\u001b[1;32m      5\u001b[0m \u001b[0;34m\u001b[0m\u001b[0m\n",
      "\u001b[0;31mNameError\u001b[0m: name 'cars' is not defined"
     ]
    }
   ],
   "source": [
    "g_cyl = cars.groupby(\"cyl\")\n",
    "\n",
    "# ungrouped assign ----\n",
    "cars.assign(demeaned = lambda d: d.hp - d.hp.mean())\n",
    "\n",
    "# grouped assign, with g_cyl only ----\n",
    "demeaned = g_cyl.obj.hp - g_cyl.hp.transform(\"mean\")\n",
    "g_cyl.obj.assign(demeaned = demeaned)"
   ]
  },
  {
   "cell_type": "markdown",
   "metadata": {},
   "source": [
    "### Separating groupings, verbs, and operations"
   ]
  },
  {
   "cell_type": "markdown",
   "metadata": {},
   "source": [
    "Notice how much more work the grouped approach is. Ideally a user should be able to specify these three things independently:\n",
    "\n",
    "1. any groupings--like `cars.groupby(\"cyl\")`\n",
    "2. table actions--like `mutate`, `summarize`, or `filter`\n",
    "3. column operations--like `_.hp -_.hp.mean()`"
   ]
  },
  {
   "cell_type": "code",
   "execution_count": 24,
   "metadata": {},
   "outputs": [
    {
     "data": {
      "text/html": [
       "<div><p>(grouped data frame)</p><div>\n",
       "<style scoped>\n",
       "    .dataframe tbody tr th:only-of-type {\n",
       "        vertical-align: middle;\n",
       "    }\n",
       "\n",
       "    .dataframe tbody tr th {\n",
       "        vertical-align: top;\n",
       "    }\n",
       "\n",
       "    .dataframe thead th {\n",
       "        text-align: right;\n",
       "    }\n",
       "</style>\n",
       "<table border=\"1\" class=\"dataframe\">\n",
       "  <thead>\n",
       "    <tr style=\"text-align: right;\">\n",
       "      <th></th>\n",
       "      <th>hp</th>\n",
       "      <th>mpg</th>\n",
       "      <th>cyl</th>\n",
       "      <th>demeaned</th>\n",
       "    </tr>\n",
       "  </thead>\n",
       "  <tbody>\n",
       "    <tr>\n",
       "      <th>0</th>\n",
       "      <td>110</td>\n",
       "      <td>21.0</td>\n",
       "      <td>6</td>\n",
       "      <td>-12.285714</td>\n",
       "    </tr>\n",
       "    <tr>\n",
       "      <th>1</th>\n",
       "      <td>110</td>\n",
       "      <td>21.0</td>\n",
       "      <td>6</td>\n",
       "      <td>-12.285714</td>\n",
       "    </tr>\n",
       "    <tr>\n",
       "      <th>...</th>\n",
       "      <td>...</td>\n",
       "      <td>...</td>\n",
       "      <td>...</td>\n",
       "      <td>...</td>\n",
       "    </tr>\n",
       "    <tr>\n",
       "      <th>30</th>\n",
       "      <td>335</td>\n",
       "      <td>15.0</td>\n",
       "      <td>8</td>\n",
       "      <td>125.785714</td>\n",
       "    </tr>\n",
       "    <tr>\n",
       "      <th>31</th>\n",
       "      <td>109</td>\n",
       "      <td>21.4</td>\n",
       "      <td>4</td>\n",
       "      <td>26.363636</td>\n",
       "    </tr>\n",
       "  </tbody>\n",
       "</table>\n",
       "<p>32 rows × 4 columns</p>\n",
       "</div></div>"
      ],
      "text/plain": [
       "<pandas.core.groupby.generic.DataFrameGroupBy object at 0x118027f98>"
      ]
     },
     "execution_count": 24,
     "metadata": {},
     "output_type": "execute_result"
    }
   ],
   "source": [
    "from siuba import mutate, _\n",
    "\n",
    "# ungrouped assign ----\n",
    "mutate(cars, demeaned = lambda d: d.hp - d.hp.mean())\n",
    "\n",
    "# grouped assign ----\n",
    "mutate(g_cyl, demeaned = lambda d: d.hp - d.hp.mean())"
   ]
  },
  {
   "cell_type": "markdown",
   "metadata": {},
   "source": [
    "Note that for operations that return a boolean Series or array, we can just swap out mutate for filter to change the end result. Rather than create a new column, it will remove rows where the operation is False."
   ]
  },
  {
   "cell_type": "code",
   "execution_count": 25,
   "metadata": {},
   "outputs": [
    {
     "data": {
      "text/html": [
       "<div><p>(grouped data frame)</p><div>\n",
       "<style scoped>\n",
       "    .dataframe tbody tr th:only-of-type {\n",
       "        vertical-align: middle;\n",
       "    }\n",
       "\n",
       "    .dataframe tbody tr th {\n",
       "        vertical-align: top;\n",
       "    }\n",
       "\n",
       "    .dataframe thead th {\n",
       "        text-align: right;\n",
       "    }\n",
       "</style>\n",
       "<table border=\"1\" class=\"dataframe\">\n",
       "  <thead>\n",
       "    <tr style=\"text-align: right;\">\n",
       "      <th></th>\n",
       "      <th>hp</th>\n",
       "      <th>mpg</th>\n",
       "      <th>cyl</th>\n",
       "    </tr>\n",
       "  </thead>\n",
       "  <tbody>\n",
       "    <tr>\n",
       "      <th>2</th>\n",
       "      <td>93</td>\n",
       "      <td>22.8</td>\n",
       "      <td>4</td>\n",
       "    </tr>\n",
       "    <tr>\n",
       "      <th>6</th>\n",
       "      <td>245</td>\n",
       "      <td>14.3</td>\n",
       "      <td>8</td>\n",
       "    </tr>\n",
       "    <tr>\n",
       "      <th>...</th>\n",
       "      <td>...</td>\n",
       "      <td>...</td>\n",
       "      <td>...</td>\n",
       "    </tr>\n",
       "    <tr>\n",
       "      <th>30</th>\n",
       "      <td>335</td>\n",
       "      <td>15.0</td>\n",
       "      <td>8</td>\n",
       "    </tr>\n",
       "    <tr>\n",
       "      <th>31</th>\n",
       "      <td>109</td>\n",
       "      <td>21.4</td>\n",
       "      <td>4</td>\n",
       "    </tr>\n",
       "  </tbody>\n",
       "</table>\n",
       "<p>15 rows × 3 columns</p>\n",
       "</div></div>"
      ],
      "text/plain": [
       "<pandas.core.groupby.generic.DataFrameGroupBy object at 0x11802bf28>"
      ]
     },
     "execution_count": 25,
     "metadata": {},
     "output_type": "execute_result"
    }
   ],
   "source": [
    "from siuba import filter\n",
    "\n",
    "# swap out mutate, return rows where hp > average hp\n",
    "filter(g_cyl, lambda d: d.hp > d.hp.mean())"
   ]
  },
  {
   "cell_type": "markdown",
   "metadata": {},
   "source": [
    "### Operating over multiple columns"
   ]
  },
  {
   "cell_type": "markdown",
   "metadata": {},
   "source": [
    "Another important improvement is that we can use multiple columns in our summarize operations. Since `DataFrame.agg()` only operates on single columns, this is big improvement for functions like summarize."
   ]
  },
  {
   "cell_type": "code",
   "execution_count": 26,
   "metadata": {},
   "outputs": [
    {
     "data": {
      "text/html": [
       "<div>\n",
       "<style scoped>\n",
       "    .dataframe tbody tr th:only-of-type {\n",
       "        vertical-align: middle;\n",
       "    }\n",
       "\n",
       "    .dataframe tbody tr th {\n",
       "        vertical-align: top;\n",
       "    }\n",
       "\n",
       "    .dataframe thead th {\n",
       "        text-align: right;\n",
       "    }\n",
       "</style>\n",
       "<table border=\"1\" class=\"dataframe\">\n",
       "  <thead>\n",
       "    <tr style=\"text-align: right;\">\n",
       "      <th></th>\n",
       "      <th>cyl</th>\n",
       "      <th>avg_mpg_per_hp</th>\n",
       "    </tr>\n",
       "  </thead>\n",
       "  <tbody>\n",
       "    <tr>\n",
       "      <th>0</th>\n",
       "      <td>4</td>\n",
       "      <td>0.351103</td>\n",
       "    </tr>\n",
       "    <tr>\n",
       "      <th>1</th>\n",
       "      <td>6</td>\n",
       "      <td>0.166018</td>\n",
       "    </tr>\n",
       "    <tr>\n",
       "      <th>2</th>\n",
       "      <td>8</td>\n",
       "      <td>0.076657</td>\n",
       "    </tr>\n",
       "  </tbody>\n",
       "</table>\n",
       "</div>"
      ],
      "text/plain": [
       "   cyl  avg_mpg_per_hp\n",
       "0    4        0.351103\n",
       "1    6        0.166018\n",
       "2    8        0.076657"
      ]
     },
     "execution_count": 26,
     "metadata": {},
     "output_type": "execute_result"
    }
   ],
   "source": [
    "summarize(g_cyl, avg_mpg_per_hp = lambda d: (d.mpg / d.hp).mean())"
   ]
  },
  {
   "cell_type": "markdown",
   "metadata": {},
   "source": [
    "Such flexibility can come at the cost of speed. However, in the same way that siuba can generate SQL code, it can also execute grouped operations that use the fastest pandas code possible."
   ]
  },
  {
   "cell_type": "markdown",
   "metadata": {},
   "source": [
    "## Transforming operations\n",
    "\n"
   ]
  },
  {
   "cell_type": "markdown",
   "metadata": {},
   "source": [
    "You may have noticed in previous sections that some features--like making grouped pandas operations fast and executing SQL--require declaring what you want to do with `_`. Ultimately, when you write an operation like `_.a + _.b`, it results in a new Symbolic object that can do two things.\n",
    "\n",
    "1. be executed like a lambda\n",
    "2. allow self-representation and transformation through an abstract syntax tree\n",
    "\n",
    "For example, consider the representation from the code below."
   ]
  },
  {
   "cell_type": "code",
   "execution_count": 31,
   "metadata": {},
   "outputs": [
    {
     "data": {
      "text/plain": [
       "█─+\n",
       "├─█─.\n",
       "│ ├─_\n",
       "│ └─'a'\n",
       "└─█─.\n",
       "  ├─_\n",
       "  └─'b'"
      ]
     },
     "execution_count": 31,
     "metadata": {},
     "output_type": "execute_result"
    }
   ],
   "source": [
    "symbol = _.a + _.b\n",
    "\n",
    "symbol"
   ]
  },
  {
   "cell_type": "code",
   "execution_count": 32,
   "metadata": {},
   "outputs": [
    {
     "data": {
      "text/plain": [
       "_.a + _.b"
      ]
     },
     "execution_count": 32,
     "metadata": {},
     "output_type": "execute_result"
    }
   ],
   "source": [
    "from siuba.siu import strip_symbolic\n",
    "\n",
    "call = strip_symbolic(symbol)\n",
    "call"
   ]
  },
  {
   "cell_type": "markdown",
   "metadata": {},
   "source": [
    "A call has three attributes\n",
    "\n",
    "* func: the function being called (eg `__add__` for addition)\n",
    "* args: positional arguments passed to the call\n",
    "* kwargs: keyword arguments passed to the call\n",
    "\n",
    "This makes it very easy to inspect and modify calls. For example, we could change the function from addition to subtraction."
   ]
  },
  {
   "cell_type": "code",
   "execution_count": 33,
   "metadata": {},
   "outputs": [
    {
     "data": {
      "text/plain": [
       "_.a - _.b"
      ]
     },
     "execution_count": 33,
     "metadata": {},
     "output_type": "execute_result"
    }
   ],
   "source": [
    "call.func = '__sub__'\n",
    "call"
   ]
  },
  {
   "cell_type": "markdown",
   "metadata": {},
   "source": [
    "Note that in practice, calls should not be modified in place like that. The `siuba.siu` module implements a common tool called a `TreeVisitor`. This is nearly identical to the class of the same name in python's build in `ast` module.\n",
    "\n",
    "To learn more, see TODO: link developer doc or ADR."
   ]
  },
  {
   "cell_type": "markdown",
   "metadata": {
    "toc-hr-collapsed": true
   },
   "source": [
    "## Backends"
   ]
  },
  {
   "cell_type": "markdown",
   "metadata": {},
   "source": [
    "### Fast grouped operations"
   ]
  },
  {
   "cell_type": "markdown",
   "metadata": {},
   "source": [
    "The previous section discussed how siuba uses a consistent API to separate any groupings, operations to apply, and how to combine results. Thinking about these three concepts separately makes them easy to tweak individually.\n",
    "\n",
    "(TODO probably move this to prev section)\n"
   ]
  },
  {
   "cell_type": "code",
   "execution_count": 27,
   "metadata": {},
   "outputs": [],
   "source": [
    "from siuba import group_by, mutate, filter, _\n",
    "\n",
    "grouping = group_by(\"cyl\")\n",
    "\n",
    "action1 = mutate\n",
    "action2 = filter\n",
    "\n",
    "operation = _.hp > _.hp.mean()"
   ]
  },
  {
   "cell_type": "code",
   "execution_count": 28,
   "metadata": {},
   "outputs": [
    {
     "data": {
      "text/html": [
       "<div><p>(grouped data frame)</p><div>\n",
       "<style scoped>\n",
       "    .dataframe tbody tr th:only-of-type {\n",
       "        vertical-align: middle;\n",
       "    }\n",
       "\n",
       "    .dataframe tbody tr th {\n",
       "        vertical-align: top;\n",
       "    }\n",
       "\n",
       "    .dataframe thead th {\n",
       "        text-align: right;\n",
       "    }\n",
       "</style>\n",
       "<table border=\"1\" class=\"dataframe\">\n",
       "  <thead>\n",
       "    <tr style=\"text-align: right;\">\n",
       "      <th></th>\n",
       "      <th>hp</th>\n",
       "      <th>mpg</th>\n",
       "      <th>cyl</th>\n",
       "      <th>result</th>\n",
       "    </tr>\n",
       "  </thead>\n",
       "  <tbody>\n",
       "    <tr>\n",
       "      <th>0</th>\n",
       "      <td>110</td>\n",
       "      <td>21.0</td>\n",
       "      <td>6</td>\n",
       "      <td>False</td>\n",
       "    </tr>\n",
       "    <tr>\n",
       "      <th>1</th>\n",
       "      <td>110</td>\n",
       "      <td>21.0</td>\n",
       "      <td>6</td>\n",
       "      <td>False</td>\n",
       "    </tr>\n",
       "    <tr>\n",
       "      <th>...</th>\n",
       "      <td>...</td>\n",
       "      <td>...</td>\n",
       "      <td>...</td>\n",
       "      <td>...</td>\n",
       "    </tr>\n",
       "    <tr>\n",
       "      <th>30</th>\n",
       "      <td>335</td>\n",
       "      <td>15.0</td>\n",
       "      <td>8</td>\n",
       "      <td>True</td>\n",
       "    </tr>\n",
       "    <tr>\n",
       "      <th>31</th>\n",
       "      <td>109</td>\n",
       "      <td>21.4</td>\n",
       "      <td>4</td>\n",
       "      <td>True</td>\n",
       "    </tr>\n",
       "  </tbody>\n",
       "</table>\n",
       "<p>32 rows × 4 columns</p>\n",
       "</div></div>"
      ],
      "text/plain": [
       "<pandas.core.groupby.generic.DataFrameGroupBy object at 0x11802fa20>"
      ]
     },
     "execution_count": 28,
     "metadata": {},
     "output_type": "execute_result"
    }
   ],
   "source": [
    "cars >> grouping >> action1(result = operation)"
   ]
  },
  {
   "cell_type": "code",
   "execution_count": 29,
   "metadata": {},
   "outputs": [
    {
     "data": {
      "text/html": [
       "<div><p>(grouped data frame)</p><div>\n",
       "<style scoped>\n",
       "    .dataframe tbody tr th:only-of-type {\n",
       "        vertical-align: middle;\n",
       "    }\n",
       "\n",
       "    .dataframe tbody tr th {\n",
       "        vertical-align: top;\n",
       "    }\n",
       "\n",
       "    .dataframe thead th {\n",
       "        text-align: right;\n",
       "    }\n",
       "</style>\n",
       "<table border=\"1\" class=\"dataframe\">\n",
       "  <thead>\n",
       "    <tr style=\"text-align: right;\">\n",
       "      <th></th>\n",
       "      <th>hp</th>\n",
       "      <th>mpg</th>\n",
       "      <th>cyl</th>\n",
       "    </tr>\n",
       "  </thead>\n",
       "  <tbody>\n",
       "    <tr>\n",
       "      <th>2</th>\n",
       "      <td>93</td>\n",
       "      <td>22.8</td>\n",
       "      <td>4</td>\n",
       "    </tr>\n",
       "    <tr>\n",
       "      <th>6</th>\n",
       "      <td>245</td>\n",
       "      <td>14.3</td>\n",
       "      <td>8</td>\n",
       "    </tr>\n",
       "    <tr>\n",
       "      <th>...</th>\n",
       "      <td>...</td>\n",
       "      <td>...</td>\n",
       "      <td>...</td>\n",
       "    </tr>\n",
       "    <tr>\n",
       "      <th>30</th>\n",
       "      <td>335</td>\n",
       "      <td>15.0</td>\n",
       "      <td>8</td>\n",
       "    </tr>\n",
       "    <tr>\n",
       "      <th>31</th>\n",
       "      <td>109</td>\n",
       "      <td>21.4</td>\n",
       "      <td>4</td>\n",
       "    </tr>\n",
       "  </tbody>\n",
       "</table>\n",
       "<p>15 rows × 3 columns</p>\n",
       "</div></div>"
      ],
      "text/plain": [
       "<pandas.core.groupby.generic.DataFrameGroupBy object at 0x118033048>"
      ]
     },
     "execution_count": 29,
     "metadata": {},
     "output_type": "execute_result"
    }
   ],
   "source": [
    "cars >> grouping >> action2(operation)"
   ]
  },
  {
   "cell_type": "markdown",
   "metadata": {},
   "source": [
    "Critically, the tools siuba uses allow it to generate SQL code, also allow it to generate highly performant grouped operations.\n"
   ]
  },
  {
   "cell_type": "code",
   "execution_count": null,
   "metadata": {},
   "outputs": [],
   "source": []
  },
  {
   "cell_type": "markdown",
   "metadata": {},
   "source": [
    "To see what functions are supported in siuba's fast grouped operations, see this method support table. (TODO: link)"
   ]
  },
  {
   "cell_type": "markdown",
   "metadata": {},
   "source": [
    "### Querying SQL database\n",
    "\n",
    "A killer feature of siuba is that you can run your code locally in pandas, or against a SQL database.\n",
    "\n",
    "TODO: use sqlite to demo? support later version of sqlite, so can use partitions etc?"
   ]
  },
  {
   "cell_type": "code",
   "execution_count": 30,
   "metadata": {},
   "outputs": [
    {
     "name": "stdout",
     "output_type": "stream",
     "text": [
      "SELECT cars.cyl, cars.mpg, cars.hp, cars.hp - avg(cars.hp, 0) OVER (PARTITION BY cars.cyl) AS demeaned \n",
      "FROM cars\n"
     ]
    }
   ],
   "source": [
    "from siuba import _, group_by, summarize\n",
    "\n",
    "q = (cars_sql\n",
    "  >> group_by(\"cyl\")\n",
    "  >> mutate(demeaned = _.hp - _.hp.mean(0))\n",
    "  >> show_query()\n",
    ")"
   ]
  },
  {
   "cell_type": "markdown",
   "metadata": {},
   "source": [
    "Reference to...\n",
    "\n",
    "* SQL UDF example\n",
    "* ADR on call trees and SQL"
   ]
  },
  {
   "cell_type": "markdown",
   "metadata": {},
   "source": [
    "## Nested data"
   ]
  }
 ],
 "metadata": {
  "kernelspec": {
   "display_name": "Python 3",
   "language": "python",
   "name": "python3"
  },
  "language_info": {
   "codemirror_mode": {
    "name": "ipython",
    "version": 3
   },
   "file_extension": ".py",
   "mimetype": "text/x-python",
   "name": "python",
   "nbconvert_exporter": "python",
   "pygments_lexer": "ipython3",
   "version": "3.6.8"
  }
 },
 "nbformat": 4,
 "nbformat_minor": 4
}

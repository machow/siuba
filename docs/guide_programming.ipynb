{
 "cells": [
  {
   "cell_type": "code",
   "execution_count": null,
   "metadata": {
    "nbsphinx": "hidden"
   },
   "outputs": [],
   "source": [
    "import pandas as pd\n",
    "\n",
    "pd.set_option(\"display.max_rows\", 5)"
   ]
  },
  {
   "cell_type": "markdown",
   "metadata": {},
   "source": [
    "# Programming guide\n",
    "\n",
    "> ⚠️ If you want to get started analyzing data, see the [analysis guide](guide_analysis.html). This guide gives an overview of how to implement and extend most parts of siuba. It also discusses the rationale behind siuba's architecture."
   ]
  },
  {
   "cell_type": "markdown",
   "metadata": {},
   "source": [
    "## Overview\n",
    "\n",
    "This document can be thought of as roughly having two segments. The core **analysis interface** gives users flexibility to independently specify data groupings, table verbs, and column operations. It also highlights a critical piece of siuba's design--that its column operations correspond to pandas Series methods.\n",
    "\n",
    "Here's an example of this interface in use, colored with links the relevant sections."
   ]
  },
  {
   "cell_type": "raw",
   "metadata": {
    "raw_mimetype": "text/html"
   },
   "source": [
    "<svg xmlns=\"http://www.w3.org/2000/svg\" xmlns:xlink=\"http://www.w3.org/1999/xlink\" version=\"1.1\" width=\"231px\" viewBox=\"-0.5 -0.5 231 76\" style=\"max-width:100%;max-height:76px;\"><defs/><g><rect x=\"0\" y=\"0\" width=\"230\" height=\"75\" fill=\"none\" stroke=\"none\" pointer-events=\"all\"/><g transform=\"translate(-0.5 -0.5)\"><switch><foreignObject style=\"overflow: visible; text-align: left;\" pointer-events=\"none\" width=\"100%\" height=\"100%\" requiredFeatures=\"http://www.w3.org/TR/SVG11/feature#Extensibility\"><div xmlns=\"http://www.w3.org/1999/xhtml\" style=\"display: flex; align-items: unsafe center; justify-content: unsafe flex-start; width: 228px; height: 1px; padding-top: 38px; margin-left: 2px;\"><div style=\"box-sizing: border-box; font-size: 0; text-align: left; \"><div style=\"display: inline-block; font-size: 12px; font-family: Helvetica; color: #000000; line-height: 1.2; pointer-events: all; white-space: normal; word-wrap: normal; \">(<span style=\"background-color: rgb(255 , 255 , 255)\">data</span> <br />    <a href=\"http://localhost:8000/guide_programming.html#Pipe-syntax\"><font style=\"background-color: rgb(204 , 229 , 255)\" color=\"#000000\">&gt;&gt;</font></a> <font style=\"background-color: rgb(204 , 255 , 230)\"><a href=\"#Table-verbs\"><font color=\"#000000\">group_by</font></a></font>(...)<br />    <a href=\"http://localhost:8000/guide_programming.html#Pipe-syntax\"><font color=\"#000000\" style=\"background-color: rgb(204 , 229 , 255)\">&gt;&gt;</font></a> <span style=\"background-color: rgb(204 , 255 , 230)\"><a href=\"http://localhost:8000/guide_programming.html#Table-verbs\"><font color=\"#000000\">mutate</font></a></span>(result = <span style=\"background-color: rgb(255 , 255 , 204)\"><a href=\"http://localhost:8000/guide_programming.html#Column-operations\">_<font color=\"#000000\"><font>.hp - _.hp.mean()</font></font></a></span>)<br />)</div></div></div></foreignObject><text x=\"2\" y=\"41\" fill=\"#000000\" font-family=\"Helvetica\" font-size=\"12px\">(data...</text></switch></g></g><switch><g requiredFeatures=\"http://www.w3.org/TR/SVG11/feature#Extensibility\"/><a transform=\"translate(0,-5)\" xlink:href=\"https://desk.draw.io/support/solutions/articles/16000042487\" target=\"_blank\"><text text-anchor=\"middle\" font-size=\"10px\" x=\"50%\" y=\"100%\">Viewer does not support full SVG 1.1</text></a></switch></svg>"
   ]
  },
  {
   "cell_type": "markdown",
   "metadata": {},
   "source": [
    "The **lazy execution** interface allows users to declare **what** they want to perform, so developers can create backends to optimize **how** to execute it on different data sources (e.g. SQL)."
   ]
  },
  {
   "cell_type": "raw",
   "metadata": {
    "raw_mimetype": "text/html"
   },
   "source": [
    "<svg xmlns=\"http://www.w3.org/2000/svg\" xmlns:xlink=\"http://www.w3.org/1999/xlink\" version=\"1.1\" width=\"497px\" viewBox=\"-0.5 -0.5 497 252\" style=\"max-width:100%;max-height:252px;\"><defs/><g><rect x=\"40\" y=\"0\" width=\"300\" height=\"20\" fill=\"none\" stroke=\"none\" pointer-events=\"all\"/><g transform=\"translate(-0.5 -0.5)\"><switch><foreignObject style=\"overflow: visible; text-align: left;\" pointer-events=\"none\" width=\"100%\" height=\"100%\" requiredFeatures=\"http://www.w3.org/TR/SVG11/feature#Extensibility\"><div xmlns=\"http://www.w3.org/1999/xhtml\" style=\"display: flex; align-items: unsafe center; justify-content: unsafe center; width: 298px; height: 1px; padding-top: 10px; margin-left: 41px;\"><div style=\"box-sizing: border-box; font-size: 0; text-align: center; \"><div style=\"display: inline-block; font-size: 12px; font-family: Helvetica; color: #000000; line-height: 1.2; pointer-events: all; white-space: normal; word-wrap: normal; \"><b><font style=\"font-size: 14px\">verb(backend, op1, ..., opN)</font></b></div></div></div></foreignObject><text x=\"190\" y=\"14\" fill=\"#000000\" font-family=\"Helvetica\" font-size=\"12px\" text-anchor=\"middle\">verb(backend, op1, ..., opN)</text></switch></g><path d=\"M 150 20 L 135.55 41.68 Q 130 50 124.45 58.32 L 100.2 94.7\" fill=\"none\" stroke=\"#000000\" stroke-miterlimit=\"10\" pointer-events=\"stroke\"/><path d=\"M 97.29 99.07 L 98.26 91.3 L 100.2 94.7 L 104.08 95.19 Z\" fill=\"#000000\" stroke=\"#000000\" stroke-miterlimit=\"10\" pointer-events=\"all\"/><g transform=\"translate(-0.5 -0.5)\"><switch><foreignObject style=\"overflow: visible; text-align: left;\" pointer-events=\"none\" width=\"100%\" height=\"100%\" requiredFeatures=\"http://www.w3.org/TR/SVG11/feature#Extensibility\"><div xmlns=\"http://www.w3.org/1999/xhtml\" style=\"display: flex; align-items: unsafe center; justify-content: unsafe center; width: 1px; height: 1px; padding-top: 71px; margin-left: 169px;\"><div style=\"box-sizing: border-box; font-size: 0; text-align: center; \"><div style=\"display: inline-block; font-size: 11px; font-family: Helvetica; color: #000000; line-height: 1.2; pointer-events: all; background-color: #ffffff; white-space: nowrap; \">.dispatch(Backend)</div></div></div></foreignObject><text x=\"169\" y=\"75\" fill=\"#000000\" font-family=\"Helvetica\" font-size=\"11px\" text-anchor=\"middle\">.dispatch(...</text></switch></g><ellipse cx=\"30\" cy=\"220\" rx=\"30\" ry=\"30\" fill=\"#ffffff\" stroke=\"#000000\" pointer-events=\"all\"/><g transform=\"translate(-0.5 -0.5)\"><switch><foreignObject style=\"overflow: visible; text-align: left;\" pointer-events=\"none\" width=\"100%\" height=\"100%\" requiredFeatures=\"http://www.w3.org/TR/SVG11/feature#Extensibility\"><div xmlns=\"http://www.w3.org/1999/xhtml\" style=\"display: flex; align-items: unsafe center; justify-content: unsafe center; width: 58px; height: 1px; padding-top: 220px; margin-left: 1px;\"><div style=\"box-sizing: border-box; font-size: 0; text-align: center; \"><div style=\"display: inline-block; font-size: 12px; font-family: Helvetica; color: #000000; line-height: 1.2; pointer-events: all; white-space: normal; word-wrap: normal; \">Data</div></div></div></foreignObject><text x=\"30\" y=\"224\" fill=\"#000000\" font-family=\"Helvetica\" font-size=\"12px\" text-anchor=\"middle\">Data</text></switch></g><path d=\"M 90 140 L 149.95 186.12\" fill=\"none\" stroke=\"#000000\" stroke-miterlimit=\"10\" pointer-events=\"stroke\"/><path d=\"M 154.11 189.32 L 146.43 187.82 L 149.95 186.12 L 150.7 182.28 Z\" fill=\"#000000\" stroke=\"#000000\" stroke-miterlimit=\"10\" pointer-events=\"all\"/><path d=\"M 90 140 L 34.89 185.92\" fill=\"none\" stroke=\"#000000\" stroke-miterlimit=\"10\" pointer-events=\"stroke\"/><path d=\"M 30.86 189.28 L 34 182.11 L 34.89 185.92 L 38.48 187.49 Z\" fill=\"#000000\" stroke=\"#000000\" stroke-miterlimit=\"10\" pointer-events=\"all\"/><path d=\"M 250 20 L 287.15 94.3\" fill=\"none\" stroke=\"#000000\" stroke-miterlimit=\"10\" pointer-events=\"stroke\"/><path d=\"M 289.5 99 L 283.24 94.3 L 287.15 94.3 L 289.5 91.17 Z\" fill=\"#000000\" stroke=\"#000000\" stroke-miterlimit=\"10\" pointer-events=\"all\"/><rect x=\"385\" y=\"0\" width=\"110\" height=\"20\" fill=\"none\" stroke=\"none\" pointer-events=\"all\"/><g transform=\"translate(-0.5 -0.5)\"><switch><foreignObject style=\"overflow: visible; text-align: left;\" pointer-events=\"none\" width=\"100%\" height=\"100%\" requiredFeatures=\"http://www.w3.org/TR/SVG11/feature#Extensibility\"><div xmlns=\"http://www.w3.org/1999/xhtml\" style=\"display: flex; align-items: unsafe center; justify-content: unsafe center; width: 108px; height: 1px; padding-top: 10px; margin-left: 386px;\"><div style=\"box-sizing: border-box; font-size: 0; text-align: center; \"><div style=\"display: inline-block; font-size: 12px; font-family: Helvetica; color: #000000; line-height: 1.2; pointer-events: all; font-weight: bold; white-space: normal; word-wrap: normal; \"><font style=\"font-size: 14px\">_.a + _.b</font></div></div></div></foreignObject><text x=\"440\" y=\"14\" fill=\"#000000\" font-family=\"Helvetica\" font-size=\"12px\" text-anchor=\"middle\" font-weight=\"bold\">_.a + _.b</text></switch></g><path d=\"M 440 20 L 432.01 43.96\" fill=\"none\" stroke=\"#000000\" stroke-miterlimit=\"10\" pointer-events=\"stroke\"/><path d=\"M 430.35 48.94 L 429.25 41.19 L 432.01 43.96 L 435.89 43.41 Z\" fill=\"#000000\" stroke=\"#000000\" stroke-miterlimit=\"10\" pointer-events=\"all\"/><path d=\"M 380 80 L 344.5 115.5\" fill=\"none\" stroke=\"#000000\" stroke-miterlimit=\"10\" pointer-events=\"stroke\"/><path d=\"M 340.79 119.21 L 343.27 111.78 L 344.5 115.5 L 348.22 116.73 Z\" fill=\"#000000\" stroke=\"#000000\" stroke-miterlimit=\"10\" pointer-events=\"all\"/><a xlink:href=\"#Backends\"><rect x=\"40\" y=\"100\" width=\"100\" height=\"40\" fill=\"#ccccff\" stroke=\"#000000\" pointer-events=\"all\"/><g transform=\"translate(-0.5 -0.5)\"><switch><foreignObject style=\"overflow: visible; text-align: left;\" pointer-events=\"none\" width=\"100%\" height=\"100%\" requiredFeatures=\"http://www.w3.org/TR/SVG11/feature#Extensibility\"><div xmlns=\"http://www.w3.org/1999/xhtml\" style=\"display: flex; align-items: unsafe center; justify-content: unsafe center; width: 98px; height: 1px; padding-top: 120px; margin-left: 41px;\"><div style=\"box-sizing: border-box; font-size: 0; text-align: center; \"><div style=\"display: inline-block; font-size: 12px; font-family: Helvetica; color: #000000; line-height: 1.2; pointer-events: all; white-space: normal; word-wrap: normal; \"><span style=\"white-space: normal ; background-color: rgb(204 , 204 , 255)\"><font color=\"#000000\"><font color=\"#000000\">Backend</font></font></span></div></div></div></foreignObject><text x=\"90\" y=\"124\" fill=\"#000000\" font-family=\"Helvetica\" font-size=\"12px\" text-anchor=\"middle\">Backend</text></switch></g></a><a xlink:href=\"#Lazy-expressions-(_.a-+-_.b)\"><rect x=\"240\" y=\"100\" width=\"100\" height=\"40\" fill=\"#ffffcc\" stroke=\"#000000\" pointer-events=\"all\"/><g transform=\"translate(-0.5 -0.5)\"><switch><foreignObject style=\"overflow: visible; text-align: left;\" pointer-events=\"none\" width=\"100%\" height=\"100%\" requiredFeatures=\"http://www.w3.org/TR/SVG11/feature#Extensibility\"><div xmlns=\"http://www.w3.org/1999/xhtml\" style=\"display: flex; align-items: unsafe center; justify-content: unsafe center; width: 98px; height: 1px; padding-top: 120px; margin-left: 241px;\"><div style=\"box-sizing: border-box; font-size: 0; text-align: center; \"><div style=\"display: inline-block; font-size: 12px; font-family: Helvetica; color: #000000; line-height: 1.2; pointer-events: all; white-space: normal; word-wrap: normal; \"><span style=\"white-space: normal ; background-color: rgb(255 , 255 , 204)\"><font color=\"#000000\">Call</font></span></div></div></div></foreignObject><text x=\"290\" y=\"124\" fill=\"#000000\" font-family=\"Helvetica\" font-size=\"12px\" text-anchor=\"middle\">Call</text></switch></g></a><a xlink:href=\"#Lazy-expressions-(_.a-+-_.b)\"><rect x=\"380\" y=\"50\" width=\"100\" height=\"40\" fill=\"#ffffcc\" stroke=\"#000000\" pointer-events=\"all\"/><g transform=\"translate(-0.5 -0.5)\"><switch><foreignObject style=\"overflow: visible; text-align: left;\" pointer-events=\"none\" width=\"100%\" height=\"100%\" requiredFeatures=\"http://www.w3.org/TR/SVG11/feature#Extensibility\"><div xmlns=\"http://www.w3.org/1999/xhtml\" style=\"display: flex; align-items: unsafe center; justify-content: unsafe center; width: 98px; height: 1px; padding-top: 70px; margin-left: 381px;\"><div style=\"box-sizing: border-box; font-size: 0; text-align: center; \"><div style=\"display: inline-block; font-size: 12px; font-family: Helvetica; color: #000000; line-height: 1.2; pointer-events: all; white-space: normal; word-wrap: normal; \"><font color=\"#000000\" style=\"background-color: rgb(255 , 255 , 204)\">Symbolic</font></div></div></div></foreignObject><text x=\"430\" y=\"74\" fill=\"#000000\" font-family=\"Helvetica\" font-size=\"12px\" text-anchor=\"middle\">Symbolic</text></switch></g></a><a xlink:href=\"#Translating-operations\"><rect x=\"110\" y=\"190\" width=\"90\" height=\"40\" fill=\"#ffcce6\" stroke=\"#000000\" pointer-events=\"all\"/><g transform=\"translate(-0.5 -0.5)\"><switch><foreignObject style=\"overflow: visible; text-align: left;\" pointer-events=\"none\" width=\"100%\" height=\"100%\" requiredFeatures=\"http://www.w3.org/TR/SVG11/feature#Extensibility\"><div xmlns=\"http://www.w3.org/1999/xhtml\" style=\"display: flex; align-items: unsafe center; justify-content: unsafe center; width: 88px; height: 1px; padding-top: 210px; margin-left: 111px;\"><div style=\"box-sizing: border-box; font-size: 0; text-align: center; \"><div style=\"display: inline-block; font-size: 12px; font-family: Helvetica; color: #000000; line-height: 1.2; pointer-events: all; white-space: normal; word-wrap: normal; \"><font color=\"#000000\"><font color=\"#000000\" style=\"background-color: rgb(255 , 204 , 230)\">Translator</font></font></div></div></div></foreignObject><text x=\"155\" y=\"214\" fill=\"#000000\" font-family=\"Helvetica\" font-size=\"12px\" text-anchor=\"middle\">Translator</text></switch></g></a><rect x=\"350\" y=\"100\" width=\"120\" height=\"20\" fill=\"none\" stroke=\"none\" pointer-events=\"all\"/><g transform=\"translate(-0.5 -0.5)\"><switch><foreignObject style=\"overflow: visible; text-align: left;\" pointer-events=\"none\" width=\"100%\" height=\"100%\" requiredFeatures=\"http://www.w3.org/TR/SVG11/feature#Extensibility\"><div xmlns=\"http://www.w3.org/1999/xhtml\" style=\"display: flex; align-items: unsafe center; justify-content: unsafe center; width: 118px; height: 1px; padding-top: 110px; margin-left: 351px;\"><div style=\"box-sizing: border-box; font-size: 0; text-align: center; \"><div style=\"display: inline-block; font-size: 12px; font-family: Helvetica; color: #000000; line-height: 1.2; pointer-events: all; white-space: normal; word-wrap: normal; \">siu.strip_symbolic</div></div></div></foreignObject><text x=\"410\" y=\"114\" fill=\"#000000\" font-family=\"Helvetica\" font-size=\"12px\" text-anchor=\"middle\">siu.strip_symbolic</text></switch></g></g><switch><g requiredFeatures=\"http://www.w3.org/TR/SVG11/feature#Extensibility\"/><a transform=\"translate(0,-5)\" xlink:href=\"https://desk.draw.io/support/solutions/articles/16000042487\" target=\"_blank\"><text text-anchor=\"middle\" font-size=\"10px\" x=\"50%\" y=\"100%\">Viewer does not support full SVG 1.1</text></a></switch></svg>"
   ]
  },
  {
   "cell_type": "markdown",
   "metadata": {
    "toc-hr-collapsed": true,
    "toc-nb-collapsed": true
   },
   "source": [
    "## Column operations\n",
    "\n",
    "In general, column operations in siuba are pandas Series methods.\n",
    "\n",
    "For example, the code below compares two ways to produce the same result: the `DataFrame.assign()` method, and siuba's `mutate()` function."
   ]
  },
  {
   "cell_type": "code",
   "execution_count": null,
   "metadata": {},
   "outputs": [],
   "source": [
    "from siuba.data import cars\n",
    "from siuba import mutate\n",
    "\n",
    "# pandas assign method\n",
    "cars.assign( demean = lambda d: d.mpg - d.mpg.mean())\n",
    "\n",
    "# siuba mutate function\n",
    "mutate(cars, demean = lambda d: d.mpg - d.mpg.mean())"
   ]
  },
  {
   "cell_type": "markdown",
   "metadata": {},
   "source": [
    "Note that both are using pandas Series methods under the hood. This means that you can use and debug Series methods just like you would with pandas.\n",
    "\n",
    "For **grouped data**, or a **SQL database**, siuba can't use Series methods because they don't exist.\n",
    "For example, on grouped data, the same operation above in pandas would be..\n"
   ]
  },
  {
   "cell_type": "code",
   "execution_count": null,
   "metadata": {},
   "outputs": [],
   "source": [
    "# create grouped data\n",
    "g_cyl = cars.groupby('cyl')\n",
    "\n",
    "# error: g_cyl doesn't have an .assign method! :/\n",
    "# g_cyl.assign\n",
    "\n",
    "cars.assign(demean = g_cyl.mpg.transform(lambda x: x - x.mean()))"
   ]
  },
  {
   "cell_type": "markdown",
   "metadata": {},
   "source": [
    "In this case, the siuba code works similar to the pandas code above, but stays the same as in the ungrouped example:\n",
    "\n",
    "```python\n",
    "mutate(g_cyl, demean = lambda d: d.mpg - d.mpg.mean())\n",
    "```\n",
    "\n",
    "For SQL, it needs to go through a process to convert it to a SQL query using SQLAlchemy.\n",
    "One key step in this process is understanding how siuba can work on a DataFrame or a SQLAlchemy connection."
   ]
  },
  {
   "cell_type": "markdown",
   "metadata": {},
   "source": [
    "## Table verbs"
   ]
  },
  {
   "cell_type": "markdown",
   "metadata": {},
   "source": [
    "You may be wondering how a siuba function, like mutate, could work on a SQL database.\n",
    "This is because these functions are defined using a technique called single dispatch. This approach allows you to define class-specific versions of a function.\n",
    "\n",
    "The code below creates a function called `head()`, with an implementation that works specifically on a DataFrame."
   ]
  },
  {
   "cell_type": "code",
   "execution_count": null,
   "metadata": {},
   "outputs": [],
   "source": [
    "import pandas as pd\n",
    "from siuba.dply.verbs import singledispatch2\n",
    "\n",
    "# DataFrame version of function ---\n",
    "\n",
    "@singledispatch2(pd.DataFrame)\n",
    "def head(__data, n = 5):\n",
    "    return __data.head(n)\n",
    "\n",
    "head(cars, 2)"
   ]
  },
  {
   "cell_type": "markdown",
   "metadata": {},
   "source": [
    "We can define a SQL specific version, that acts on a SqlAlchemy Table by registering a new function, `_head_sql`."
   ]
  },
  {
   "cell_type": "code",
   "execution_count": null,
   "metadata": {},
   "outputs": [],
   "source": [
    "# SQL version of function ---\n",
    "from sqlalchemy import Table, Column, MetaData\n",
    "\n",
    "@head.register(Table)\n",
    "def _head_sql(__data, n = 5):\n",
    "    return __data.select().limit(n)\n",
    "\n",
    "table = Table(\"some_table\", MetaData(), Column('a'), Column('b'))\n",
    "\n",
    "print(\n",
    "    head(table, 2)\n",
    ")"
   ]
  },
  {
   "cell_type": "markdown",
   "metadata": {},
   "source": [
    "why use singledispatch rather than a class method like `mtcars.head()`?\n",
    "\n",
    "There are two big benefits:\n",
    "\n",
    "1. **Anyone can cleanly define and package a function**. Using it is just a matter of importing it. With a method, you need to somehow put it onto the class representing your data. You end up with 300+ methods on a class.\n",
    "2. Your function might do something that is **not the class's core responsibility**. In this case, it should not be part of the class definition."
   ]
  },
  {
   "cell_type": "markdown",
   "metadata": {},
   "source": [
    "### Grouped data"
   ]
  },
  {
   "cell_type": "markdown",
   "metadata": {},
   "source": [
    "Since single dispatch functions define how to execute an action for a specific class of data, it allows siuba to handle grouped data in two ways:\n",
    "\n",
    "* pandas - register dispatchers for its special grouped data classes (`DataFrameGroupBy`, `SeriesGroupBy`).\n",
    "* SQL - use a single class for grouped and ungrouped data, with grouping info as an attribute (`siuba.sql.LazyTbl`).\n",
    "\n",
    "For example, here is a simple verb that calculates the number of rows in a grouped DataFrame."
   ]
  },
  {
   "cell_type": "code",
   "execution_count": null,
   "metadata": {},
   "outputs": [],
   "source": [
    "from pandas.core.groupby import DataFrameGroupBy\n",
    "\n",
    "@singledispatch2(DataFrameGroupBy)\n",
    "def size(__data):\n",
    "    return __data.size()\n",
    "\n",
    "size(cars.groupby('cyl'))"
   ]
  },
  {
   "cell_type": "markdown",
   "metadata": {},
   "source": [
    "### Handling indexes\n",
    "\n",
    "Most siuba table verbs take a DataFrame, and return a DataFrame.\n",
    "Moreover, they don't stick columns onto the index.\n",
    "This means you don't need to call `reset_index` all the time.\n",
    "\n",
    "A common place where `reset_index` is called is after a pandas grouped aggregation."
   ]
  },
  {
   "cell_type": "code",
   "execution_count": null,
   "metadata": {},
   "outputs": [],
   "source": [
    "from siuba.data import mtcars\n",
    "from siuba import summarize\n",
    "\n",
    "g_cyl = mtcars.groupby(\"cyl\")\n",
    "\n",
    "agg_res = g_cyl[[\"hp\", \"mpg\"]].agg(\"mean\")\n",
    "\n",
    "# nooooo\n",
    "agg_res"
   ]
  },
  {
   "cell_type": "code",
   "execution_count": null,
   "metadata": {},
   "outputs": [],
   "source": [
    "# good\n",
    "summarize(g_cyl, hp = _.hp.mean(), mpg = _.mpg.mean())"
   ]
  },
  {
   "cell_type": "markdown",
   "metadata": {},
   "source": [
    "### singledispatch2"
   ]
  },
  {
   "cell_type": "markdown",
   "metadata": {},
   "source": [
    "One thing to note is that siuba's singledispatch implementation is called `singledispatch2`. This function (whose name will likely change!) is a very light wrapper around python's built in `functools.singledispatch` that does two things:\n",
    "\n",
    "1. Allow verbs to be piped using `data >> verb1() >> verb2()` syntax.\n",
    "2. Strip out the symbolic part of lazy expressions.\n",
    "\n",
    "These two concepts are covered in the next two sections."
   ]
  },
  {
   "cell_type": "markdown",
   "metadata": {},
   "source": [
    "## Pipe syntax\n",
    "\n",
    "In the previous section I discussed how siuba uses singledispatch. This allows people to define new functions that are easy to package and import, as well as handle both a pandas DataFrame and SqlAlchemy table.\n",
    "\n",
    "One challenge with using functions, rather than methods, is finding a way to combine them so they can be read from left to right, or top to bottom. In pandas this is done using method chaining. For example, the code below starts with `cars`, then runs `.assign()`, then runs `.head()`."
   ]
  },
  {
   "cell_type": "code",
   "execution_count": null,
   "metadata": {},
   "outputs": [],
   "source": [
    "(cars\n",
    "  .assign(hp_per_cyl = lambda d: d.hp / d.cyl)\n",
    "  .head(2)\n",
    ")"
   ]
  },
  {
   "cell_type": "markdown",
   "metadata": {},
   "source": [
    "Here is a similar version in siuba of the above code without piping."
   ]
  },
  {
   "cell_type": "code",
   "execution_count": null,
   "metadata": {},
   "outputs": [],
   "source": [
    "from siuba import head, mutate\n",
    "\n",
    "# without pipe ----\n",
    "head(\n",
    "    mutate(\n",
    "        cars,\n",
    "        hp_per_cyl = lambda d: d.hp / d.cyl\n",
    "    ),\n",
    "    2\n",
    ")"
   ]
  },
  {
   "cell_type": "markdown",
   "metadata": {},
   "source": [
    "Notice how head is run last in our method chain, but is the outer most function call. We have to read the calls inside out, and it's hard to quickly spot the beginning (`cars`) and the end (`head`). This has been described as the [dagwood sandwich](http://wiki.c2.com/?ThickBreadSmell) problem.\n",
    "\n",
    "In siuba, this is resolved by overloading `>>` to create pipes."
   ]
  },
  {
   "cell_type": "code",
   "execution_count": null,
   "metadata": {},
   "outputs": [],
   "source": [
    "# with pipe ----\n",
    "(cars\n",
    "  >> mutate(hp_per_cyl = lambda d: d.hp / d.cyl)\n",
    "  >> head(2)\n",
    ")"
   ]
  },
  {
   "cell_type": "markdown",
   "metadata": {},
   "source": [
    "Notice also how in these cases we can import just the head and mutate functions. They are separated from the data classes (DataFrame, SQL source) that they can act on."
   ]
  },
  {
   "cell_type": "markdown",
   "metadata": {},
   "source": [
    "### Groups, verbs, and operations"
   ]
  },
  {
   "cell_type": "code",
   "execution_count": null,
   "metadata": {},
   "outputs": [],
   "source": [
    "from siuba import group_by, mutate, filter, _\n",
    "\n",
    "grouping = group_by(\"cyl\")\n",
    "\n",
    "verb1 = mutate\n",
    "verb2 = filter\n",
    "\n",
    "operation = lambda _: _.hp > _.hp.mean()"
   ]
  },
  {
   "cell_type": "code",
   "execution_count": null,
   "metadata": {},
   "outputs": [],
   "source": [
    "cars >> grouping >> verb1(result = operation)"
   ]
  },
  {
   "cell_type": "code",
   "execution_count": null,
   "metadata": {},
   "outputs": [],
   "source": [
    "cars >> grouping >> verb2(operation)"
   ]
  },
  {
   "cell_type": "markdown",
   "metadata": {},
   "source": [
    "### Pipeable class"
   ]
  },
  {
   "cell_type": "markdown",
   "metadata": {},
   "source": [
    "Under the hood, function calls like below are turned into a Pipeable object."
   ]
  },
  {
   "cell_type": "code",
   "execution_count": null,
   "metadata": {},
   "outputs": [],
   "source": [
    "mutate(hp_per_cyl = lambda d: d.hp / d.cyl)"
   ]
  },
  {
   "cell_type": "markdown",
   "metadata": {},
   "source": [
    "There are two **implicit** cases that create a Pipeable. \n",
    "\n",
    "1. The function receives no positional arguments\n",
    "2. The function's first positional argument is not a registered data source, like a DataFrame or SQL database.\n",
    "\n",
    "Alternatively, you can **explicitly** create a pipe by passing an instance of siuba's Symbolic class. This is shown in the code below."
   ]
  },
  {
   "cell_type": "code",
   "execution_count": null,
   "metadata": {},
   "outputs": [],
   "source": [
    "from siuba import _\n",
    "\n",
    "mutate(_, hp_per_cyl = lambda d: d.hp / d.cyl)"
   ]
  },
  {
   "cell_type": "markdown",
   "metadata": {},
   "source": [
    "In this case, we are taking advantage of siuba's lazy expressions, and using `_` as a \"placeholder\" for the data. Since `_` is an instance of the `Symbolic` class, this is just using single dispatch with one small twist.\n",
    "\n",
    "The code below shows all the classes mutate can dispatch on."
   ]
  },
  {
   "cell_type": "code",
   "execution_count": null,
   "metadata": {},
   "outputs": [],
   "source": [
    "list(mutate.registry.keys())"
   ]
  },
  {
   "cell_type": "markdown",
   "metadata": {},
   "source": [
    "Note that `Symbolic` isn't in the list, but something called a `Call` is. The twist is that siuba's `singledispatch2` strips down the `Symbolic` to something less useful to users, but safer to work with: a `Call`.\n",
    "\n",
    "The path from Symbolic to Pipeable is shown below."
   ]
  },
  {
   "cell_type": "code",
   "execution_count": null,
   "metadata": {},
   "outputs": [],
   "source": [
    "# this stripping down is done by singledispatch2\n",
    "from siuba.siu import strip_symbolic, _\n",
    "sym = _                         # a Symbolic\n",
    "call = strip_symbolic(sym)      # a Call\n",
    "\n",
    "# dispatching on Call to create a pipeable\n",
    "mutate(call)"
   ]
  },
  {
   "cell_type": "markdown",
   "metadata": {},
   "source": [
    "The following section explains the relationship between `Symbolic` and `Call`, and how they enable lazy expressions."
   ]
  },
  {
   "cell_type": "markdown",
   "metadata": {},
   "source": [
    "## Lazy expressions\n",
    "\n",
    "Together with single dispatch and pipes, lazy expressions allow you to separate declaring **what** actions to perform, from **how** to perform those actions.\n",
    "\n",
    "Up to this point, we've used lambda functions to express operations on a DataFrame's columns, but we could have used lazy expressions with `_`."
   ]
  },
  {
   "cell_type": "code",
   "execution_count": null,
   "metadata": {},
   "outputs": [],
   "source": [
    "from siuba import _, summarize\n",
    "\n",
    "# lambda approach\n",
    "summarize(cars, hp_mean = lambda d: d.hp.mean())\n",
    "\n",
    "# lazy expression approach\n",
    "summarize(cars, avg_hp = _.hp.mean())"
   ]
  },
  {
   "cell_type": "markdown",
   "metadata": {},
   "source": [
    "Peppering an analysis with lambda functions creates two challenges:\n",
    "\n",
    "1. writing `lambda d:` can take up as many characters as its operation.\n",
    "2. lambdas can lazily do some work, but they can't tell us **what** work they will do."
   ]
  },
  {
   "cell_type": "markdown",
   "metadata": {},
   "source": [
    "### What vs how\n",
    "\n",
    "Consider this symbolic, lazy expression below."
   ]
  },
  {
   "cell_type": "code",
   "execution_count": null,
   "metadata": {},
   "outputs": [],
   "source": [
    "f = _.hp.mean()\n",
    "f"
   ]
  },
  {
   "cell_type": "markdown",
   "metadata": {},
   "source": [
    "Its print-out represents the expression as an abstract syntax tree (AST).\n",
    "\n",
    "This means we can either choose to execute `f` like a function."
   ]
  },
  {
   "cell_type": "code",
   "execution_count": null,
   "metadata": {},
   "outputs": [],
   "source": [
    "f(cars)"
   ]
  },
  {
   "cell_type": "markdown",
   "metadata": {},
   "source": [
    "Or run something over it that can analyze and transform the AST."
   ]
  },
  {
   "cell_type": "code",
   "execution_count": null,
   "metadata": {
    "nbsphinx": "hidden"
   },
   "outputs": [],
   "source": [
    "# NOTE: this cell is hidden\n",
    "\n",
    "from siuba.siu import strip_symbolic, Call, _, BinaryOp\n",
    "\n",
    "def replace_attr(call, src, dst):\n",
    "    # just in case we pass a Symbolic\n",
    "    call = strip_symbolic(call)\n",
    "    \n",
    "    # check that is _.<src>, or the last part of _.abc.<src>\n",
    "    if call.func == \"__getattr__\" and call.args[1] == src:\n",
    "        # eg: obj = _, src_attr = \"hp\"\n",
    "        obj, src_attr = call.args\n",
    "        \n",
    "        # recreate call, but with dst as the attribute\n",
    "        return BinaryOp(\"__getattr__\", obj, dst)\n",
    "    \n",
    "    return call.map_replace(lambda child: replace_attr(child, src, dst))"
   ]
  },
  {
   "cell_type": "code",
   "execution_count": null,
   "metadata": {},
   "outputs": [],
   "source": [
    "# replace mpg with hp\n",
    "new_f = replace_attr(_.hp.mean() / _.cyl, 'hp', 'mpg')\n",
    "\n",
    "new_f"
   ]
  },
  {
   "cell_type": "code",
   "execution_count": null,
   "metadata": {},
   "outputs": [],
   "source": [
    "new_f(cars)"
   ]
  },
  {
   "cell_type": "markdown",
   "metadata": {},
   "source": [
    "As a more involved example, consider the code that generates this SQL query. (TODO: finish)"
   ]
  },
  {
   "cell_type": "code",
   "execution_count": null,
   "metadata": {},
   "outputs": [],
   "source": [
    "from siuba.data import cars_sql\n",
    "import siuba.sql\n",
    "from siuba import show_query\n",
    "\n",
    "q = (cars_sql \n",
    "  >> group_by(\"cyl\")\n",
    "  >> mutate(\n",
    "       demeaned = _.hp - _.hp.mean(),\n",
    "       mpg_per_hp = _.mpg / _.hp,\n",
    "  )\n",
    "  >> show_query()\n",
    ")"
   ]
  },
  {
   "cell_type": "markdown",
   "metadata": {},
   "source": [
    "In this section, we'll discuss in detail the two classes that make declaring **what** possible--Symbolic and Call. In the next section (TODO link: `Translating operations`) we'll go over the code for the `replace_attr` function, and the tools that make generating the SQL query above possible."
   ]
  },
  {
   "cell_type": "markdown",
   "metadata": {},
   "source": [
    "### Symbolic and Call\n",
    "\n",
    "Lazy expressions are implemented through two classes:\n",
    "\n",
    "* Call: the actual representation of a lazy expression\n",
    "* Symbolic: a convenience class to quickly create Calls\n",
    "\n",
    "The code below shows the action `data.a + 1` created using only the Call approach."
   ]
  },
  {
   "cell_type": "code",
   "execution_count": null,
   "metadata": {},
   "outputs": [],
   "source": [
    "# call approach\n",
    "from siuba.siu import BinaryOp, MetaArg\n",
    "\n",
    "BinaryOp(\"__add__\",\n",
    "    BinaryOp(\"__getattr__\", MetaArg(\"_\"), \"a\"),\n",
    "    1,\n",
    ")"
   ]
  },
  {
   "cell_type": "markdown",
   "metadata": {},
   "source": [
    "And again using the Symbolic instance, `_`."
   ]
  },
  {
   "cell_type": "code",
   "execution_count": null,
   "metadata": {},
   "outputs": [],
   "source": [
    "from siuba.siu import _, strip_symbolic\n",
    "\n",
    "strip_symbolic(_.a + 1)"
   ]
  },
  {
   "cell_type": "markdown",
   "metadata": {},
   "source": [
    "Note that a Symbolic's only job is to create Calls, so `strip_symbolic` is just getting the Call out (it is a \"private\" property)."
   ]
  },
  {
   "cell_type": "markdown",
   "metadata": {},
   "source": [
    "### User defined functions\n",
    "\n",
    "Declaring operations like `_.some_method()` is enough for most cases, but sometimes a person might want to use an external function.\n",
    "\n",
    "For example, siuba comes with functions that aren't covered by pandas methods, or that work in a different way."
   ]
  },
  {
   "cell_type": "code",
   "execution_count": null,
   "metadata": {},
   "outputs": [],
   "source": [
    "from siuba.dply.vector import n\n",
    "\n",
    "n(_.hp)"
   ]
  },
  {
   "cell_type": "markdown",
   "metadata": {},
   "source": [
    "In this case, the function `n()` is represented as a simple subtype of Call, called a FuncArg."
   ]
  },
  {
   "cell_type": "code",
   "execution_count": null,
   "metadata": {},
   "outputs": [],
   "source": [
    "from siuba.siu import Call, FuncArg, Symbolic\n",
    "\n",
    "func_arg = Symbolic(FuncArg(\"__custom_func__\", n))\n",
    "\n",
    "func_arg(_.hp)"
   ]
  },
  {
   "cell_type": "markdown",
   "metadata": {},
   "source": [
    "Similar to piping, this happens because functions like `n` are defined using singledispatch called `symbolic_dispatch`. When a function using `symbolic_dispatch` receives a Symbolic or Call as its first argument, it returns a Symbolic."
   ]
  },
  {
   "cell_type": "code",
   "execution_count": null,
   "metadata": {},
   "outputs": [],
   "source": [
    "from siuba.siu import symbolic_dispatch\n",
    "\n",
    "@symbolic_dispatch\n",
    "def another_n(x):\n",
    "    return len(x)"
   ]
  },
  {
   "cell_type": "code",
   "execution_count": null,
   "metadata": {},
   "outputs": [],
   "source": [
    "another_n([1,2,3])"
   ]
  },
  {
   "cell_type": "code",
   "execution_count": null,
   "metadata": {},
   "outputs": [],
   "source": [
    "another_n(_.a)"
   ]
  },
  {
   "cell_type": "code",
   "execution_count": null,
   "metadata": {},
   "outputs": [],
   "source": [
    "sym = another_n(_.a)\n",
    "sym(pd.DataFrame({'a': [0, 1, 2]}))"
   ]
  },
  {
   "cell_type": "markdown",
   "metadata": {},
   "source": [
    "This is a simple wrapper around python's singledispatch, so you can use all the tools that come with it. The most useful is printing out the classes that it can dispatch on."
   ]
  },
  {
   "cell_type": "code",
   "execution_count": null,
   "metadata": {},
   "outputs": [],
   "source": [
    "another_n.registry.keys()"
   ]
  },
  {
   "cell_type": "markdown",
   "metadata": {},
   "source": [
    "### Caveats"
   ]
  },
  {
   "cell_type": "markdown",
   "metadata": {},
   "source": [
    "siuba's lazy expressions open a whole range of behaviors, including implementing new execution backends. However, there are some limitations to their use, compared to lambda functions.\n",
    "\n",
    "**First,** they are not guaranteed to work inside a function that does not know about Symbolics. In these cases you can switch back to a lambda.\n",
    "\n",
    "```python\n",
    "df = pd.DataFrame({'date_raw': ['2019-01-01']})\n",
    "\n",
    "# not okay\n",
    "pd.to_datetime(_.date_raw)\n",
    "\n",
    "# okay\n",
    "lambda _: pd.to_datetime(_.date_raw)\n",
    "```"
   ]
  },
  {
   "cell_type": "markdown",
   "metadata": {},
   "source": [
    "Often there is an alternative method that will do the same thing."
   ]
  },
  {
   "cell_type": "code",
   "execution_count": null,
   "metadata": {},
   "outputs": [],
   "source": [
    "df = pd.DataFrame({'date_raw': ['2019-01-01']})\n",
    "\n",
    "df.date_raw.astype(\"datetime64[ns]\")"
   ]
  },
  {
   "cell_type": "markdown",
   "metadata": {},
   "source": [
    "This limitation can be thought of as similar to pandas asking for method names to be strings some times. In pandas, this is due to not using lazy expressions, while in siuba the limitations are for the opposite reason!"
   ]
  },
  {
   "cell_type": "code",
   "execution_count": null,
   "metadata": {},
   "outputs": [],
   "source": [
    "cars.groupby('cyl').hp.transform('mean')"
   ]
  },
  {
   "cell_type": "markdown",
   "metadata": {},
   "source": [
    "**Second**, outside of siuba functions, Symbolic cannot be called like a lambda when it ends with getting an attribute."
   ]
  },
  {
   "cell_type": "code",
   "execution_count": null,
   "metadata": {},
   "outputs": [],
   "source": [
    "# not okay, . is outermost (final) operation\n",
    "(_ + _).x"
   ]
  },
  {
   "cell_type": "code",
   "execution_count": null,
   "metadata": {},
   "outputs": [],
   "source": [
    "# okay\n",
    "_.x + _.y"
   ]
  },
  {
   "cell_type": "markdown",
   "metadata": {},
   "source": [
    "Note that for functions created through `singledispatch2` or `symbolic_dispatch`, any Symbolic is fine."
   ]
  },
  {
   "cell_type": "markdown",
   "metadata": {},
   "source": [
    "**Third**, they can't work with Python methods that are required to return booleans. This includes methods like `__and__`. For the most part, this is similar to the restrictions around numpy arrays and pandas Series."
   ]
  },
  {
   "cell_type": "code",
   "execution_count": null,
   "metadata": {
    "nbsphinx": {
     "allow_errors": true
    },
    "tags": [
     "raises-exception"
    ]
   },
   "outputs": [],
   "source": [
    "# should use: _ && 1\n",
    "_ and 1"
   ]
  },
  {
   "cell_type": "markdown",
   "metadata": {},
   "source": [
    "One case where this uniquely bites Symbolics is `__contains__`, but siuba is careful to raise an error."
   ]
  },
  {
   "cell_type": "code",
   "execution_count": null,
   "metadata": {
    "nbsphinx": {
     "allow_errors": true
    },
    "tags": [
     "raises-exception"
    ]
   },
   "outputs": [],
   "source": [
    "1 in _"
   ]
  },
  {
   "cell_type": "markdown",
   "metadata": {},
   "source": [
    "## Translating operations\n",
    "\n"
   ]
  },
  {
   "cell_type": "markdown",
   "metadata": {},
   "source": [
    "You may have noticed in previous sections that some features--like fast pandas grouped operations and executing SQL--require declaring what you want to do with `_`. Ultimately, when you write an operation like `_.a + _.b`, it results in a new Symbolic object that can do two things.\n",
    "\n",
    "1. be executed like a lambda\n",
    "2. allow self-representation\n",
    "\n",
    "This representation is called an Abstract Syntax Tree (AST)."
   ]
  },
  {
   "cell_type": "code",
   "execution_count": null,
   "metadata": {},
   "outputs": [],
   "source": [
    "symbol = _.a + _.b\n",
    "\n",
    "symbol"
   ]
  },
  {
   "cell_type": "code",
   "execution_count": null,
   "metadata": {},
   "outputs": [],
   "source": [
    "from siuba.siu import strip_symbolic\n",
    "\n",
    "call = strip_symbolic(symbol)\n",
    "call"
   ]
  },
  {
   "cell_type": "markdown",
   "metadata": {},
   "source": [
    "A call has three attributes\n",
    "\n",
    "* func: the function being called (eg `__add__` for addition)\n",
    "* args: positional arguments passed to the call\n",
    "* kwargs: keyword arguments passed to the call\n",
    "\n",
    "This makes it very easy to inspect and modify. For example, we could change the function from addition to subtraction."
   ]
  },
  {
   "cell_type": "code",
   "execution_count": null,
   "metadata": {},
   "outputs": [],
   "source": [
    "call.func = '__sub__'\n",
    "call"
   ]
  },
  {
   "cell_type": "markdown",
   "metadata": {},
   "source": [
    "Note that in practice, calls should not be modified in place like that. They also often contain other calls, shown as black boxes on the AST below."
   ]
  },
  {
   "cell_type": "code",
   "execution_count": null,
   "metadata": {},
   "outputs": [],
   "source": [
    "_.hp / _.mpg"
   ]
  },
  {
   "cell_type": "markdown",
   "metadata": {},
   "source": [
    "Here, the top level call is a division (`/`), with two \"get attribute\" child calls.\n",
    "We can iterate over the children manually."
   ]
  },
  {
   "cell_type": "code",
   "execution_count": null,
   "metadata": {},
   "outputs": [],
   "source": [
    "call = strip_symbolic(_.hp / _.mpg)\n",
    "\n",
    "for arg in call.args:\n",
    "    if isinstance(arg, Call):\n",
    "        print(\"child call:\", arg)\n",
    "        \n",
    "print(\"number of kwargs:\", len(call.kwargs))"
   ]
  },
  {
   "cell_type": "markdown",
   "metadata": {},
   "source": [
    "There are also some Call methods designed to make this easier. The first method, map_subcalls, runs a function on each subcall."
   ]
  },
  {
   "cell_type": "code",
   "execution_count": null,
   "metadata": {},
   "outputs": [],
   "source": [
    "call = strip_symbolic(_.hp / _.mpg)\n",
    "args, kwargs = call.map_subcalls(repr)\n",
    "\n",
    "print('args:', args)\n",
    "print('kwargs:', kwargs)"
   ]
  },
  {
   "cell_type": "markdown",
   "metadata": {},
   "source": [
    "The second method, map_replace, does the same thing, but replaces the child call the result."
   ]
  },
  {
   "cell_type": "code",
   "execution_count": null,
   "metadata": {},
   "outputs": [],
   "source": [
    "call.map_replace(\n",
    "    lambda child: BinaryOp(\"__getitem__\", *child.args, **child.kwargs)\n",
    ")"
   ]
  },
  {
   "cell_type": "markdown",
   "metadata": {},
   "source": [
    "### Example: replace_attr\n",
    "\n",
    "In the Lazy expressions section, we showed off a function that could replace pieces of a Call."
   ]
  },
  {
   "cell_type": "code",
   "execution_count": null,
   "metadata": {},
   "outputs": [],
   "source": [
    "replace_attr(_.hp.mean(), \"hp\", \"some_other_name\")"
   ]
  },
  {
   "cell_type": "markdown",
   "metadata": {},
   "source": [
    "Here is the full code for `replace_attr`."
   ]
  },
  {
   "cell_type": "code",
   "execution_count": null,
   "metadata": {},
   "outputs": [],
   "source": [
    "from siuba.siu import strip_symbolic, Call, _, BinaryOp\n",
    "\n",
    "def replace_attr(call, src, dst):\n",
    "    # just in case we pass a Symbolic\n",
    "    call = strip_symbolic(call)\n",
    "    \n",
    "    # check that is _.<src>, or the last part of _.abc.<src>\n",
    "    if call.func == \"__getattr__\" and call.args[1] == src:\n",
    "        # eg: obj = _, src_attr = \"hp\"\n",
    "        obj, src_attr = call.args\n",
    "        \n",
    "        # recreate call, but with dst as the attribute\n",
    "        return BinaryOp(\"__getattr__\", obj, dst)\n",
    "    \n",
    "    return call.map_replace(lambda child: replace_attr(child, src, dst))"
   ]
  },
  {
   "cell_type": "markdown",
   "metadata": {},
   "source": [
    "### CallVisitor"
   ]
  },
  {
   "cell_type": "markdown",
   "metadata": {},
   "source": [
    "The `siuba.siu` module implements a common class called a visitor. Using a visitor allows you to customize a translation, depending on the kind of Call (or child call) you are working on. This is nearly identical to the class of the same name in python's built in `ast` module."
   ]
  },
  {
   "cell_type": "code",
   "execution_count": null,
   "metadata": {},
   "outputs": [],
   "source": [
    "from siuba.siu import _, strip_symbolic, CallVisitor\n",
    "\n",
    "class MyVisitor(CallVisitor):\n",
    "    def visit___getattr__(self, node):\n",
    "        print('get attribute:', node.args[1])\n",
    "        \n",
    "        self.generic_visit(node)\n",
    "    \n",
    "    def visit___call__(self, node):\n",
    "        print('call', node.args[0])\n",
    "        \n",
    "        self.generic_visit(node)\n",
    "        \n",
    "call = strip_symbolic(_.a.b.c() + _.x)\n",
    "MyVisitor().visit(call)"
   ]
  },
  {
   "cell_type": "markdown",
   "metadata": {},
   "source": [
    "To learn more, see TODO: link developer doc or ADR."
   ]
  },
  {
   "cell_type": "markdown",
   "metadata": {},
   "source": [
    "## Backends\n",
    "\n",
    "> 🚧This section is a work in progress. See THIS DOC (TODO) for a tutorial on the SQL backend."
   ]
  },
  {
   "cell_type": "markdown",
   "metadata": {},
   "source": [
    "Reference to...\n",
    "\n",
    "* SQL UDF example\n",
    "* ADR on call trees and SQL"
   ]
  },
  {
   "cell_type": "markdown",
   "metadata": {
    "toc-hr-collapsed": true,
    "toc-nb-collapsed": true
   },
   "source": [
    "## Nested data\n",
    "\n",
    "> 🚧This section is a work in progress\n",
    "\n",
    "A final piece of siuba--which is more an area of active research--is how to effectively nest data. For example, can a user make a column, where each entry is a DataFrame, or fitted model? This approach is a critical component to R libraries like dplyr, as it allows users to flexibly handle hierarchical data.\n",
    "\n",
    "For nesting to work with a backend like pandas, we need:\n",
    "\n",
    "1. DataFrame creation to be very fast (currently not the case).\n",
    "2. Strategies for handling combining many DataFrames (works well in pandas).\n",
    "\n",
    "Unfortunately, **siuba is stuck without quick DataFrame creation**. Intriguingly, aspects of this situation mirror / anticipate part of the developmental trajectory of dplyr, which implemented a stripped down form of `data.frame` called a tibble. Fortunately for siuba, the pandas DataFrame has well-documented options for subclassing, so we may be able to get away with a stripped down, fast DataFrame implementation for restricted cases.\n",
    "\n",
    "A stripped down DataFrame might involve...\n",
    "\n",
    "* removing most of the index (or essentially no-op'ing it)\n",
    "* very little type conversion (so expensive conversions happen at the very end of a table verb)\n",
    "\n",
    "For more details, see the blog post, [\"What would it take to recreate dplyr in python?\"](https://mchow.com/posts/2020-02-11-dplyr-in-python/)."
   ]
  }
 ],
 "metadata": {
  "kernelspec": {
   "display_name": "Python 3",
   "language": "python",
   "name": "python3"
  },
  "language_info": {
   "codemirror_mode": {
    "name": "ipython",
    "version": 3
   },
   "file_extension": ".py",
   "mimetype": "text/x-python",
   "name": "python",
   "nbconvert_exporter": "python",
   "pygments_lexer": "ipython3",
   "version": "3.6.8"
  },
  "nbsphinx": {
   "allow_errors": true,
   "execute": "always"
  }
 },
 "nbformat": 4,
 "nbformat_minor": 4
}
